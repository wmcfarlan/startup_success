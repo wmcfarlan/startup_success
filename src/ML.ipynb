{
 "cells": [
  {
   "cell_type": "code",
   "execution_count": null,
   "metadata": {},
   "outputs": [],
   "source": [
    "# basic imports\n",
    "import pandas as pd\n",
    "import numpy as np\n",
    "from collections import defaultdict\n",
    "\n",
    "# display options\n",
    "pd.set_option('display.max_rows', 500)\n",
    "pd.set_option('display.max_columns', 500)\n",
    "pd.set_option('display.width', 1000)\n",
    "\n",
    "# visualization libraries\n",
    "import matplotlib.pyplot as plt\n",
    "import seaborn as sns\n",
    "import plotly.express as px\n",
    "import plotly.graph_objects as go\n",
    "import plotly.figure_factory as ff\n",
    "from plotly.subplots import make_subplots\n",
    "\n",
    "# ml imports\n",
    "from sklearn.model_selection import train_test_split\n",
    "from sklearn.ensemble import RandomForestClassifier, GradientBoostingClassifier, VotingClassifier\n",
    "from sklearn.dummy import DummyClassifier\n",
    "from sklearn.linear_model import LogisticRegression, Perceptron, RidgeClassifier\n",
    "from imblearn.over_sampling import SMOTE\n",
    "from sklearn.preprocessing import StandardScaler, MinMaxScaler\n",
    "from sklearn.svm import LinearSVC, SVC\n",
    "from photonai.base import Hyperpipe, PipelineElement,  Stack\n",
    "from photonai.optimization import FloatRange, Categorical, IntegerRange\n",
    "from sklearn.utils import shuffle\n",
    "from sklearn.neighbors import KNeighborsClassifier\n",
    "from sklearn.decomposition import PCA\n",
    "from sklearn.pipeline import Pipeline\n",
    "\n",
    "\n",
    "# model selection\n",
    "from sklearn.model_selection import KFold, StratifiedKFold, RepeatedStratifiedKFold, GridSearchCV, RandomizedSearchCV\n",
    "from tune_sklearn import TuneSearchCV\n",
    "\n",
    "# metrics\n",
    "from sklearn.metrics import mean_squared_error, confusion_matrix, accuracy_score, balanced_accuracy_score, precision_score, recall_score, f1_score\n",
    "import scipy.stats as stats\n",
    "from statsmodels.stats.outliers_influence import variance_inflation_factor\n",
    "from boruta import BorutaPy\n",
    "\n",
    "# view plotly in jupyter \n",
    "from plotly.offline import download_plotlyjs, init_notebook_mode, plot, iplot\n",
    "init_notebook_mode(connected=True)\n",
    "\n",
    "# ignore warnings\n",
    "import warnings\n",
    "warnings.filterwarnings(\"ignore\")"
   ]
  },
  {
   "cell_type": "code",
   "execution_count": 61,
   "metadata": {},
   "outputs": [],
   "source": [
    "df = pd.read_csv('../data/final_csv.csv')"
   ]
  },
  {
   "cell_type": "markdown",
   "metadata": {},
   "source": [
    "#### Model Building -- will a company fail or succeed"
   ]
  },
  {
   "cell_type": "code",
   "execution_count": 62,
   "metadata": {},
   "outputs": [],
   "source": [
    "df.status = df.status.map({0: 'fail', 1: 'succeed', 2: 'succeed', 3: 'succeed'})"
   ]
  },
  {
   "cell_type": "code",
   "execution_count": 63,
   "metadata": {},
   "outputs": [],
   "source": [
    "cat_dict = dict(df.category_list.value_counts() == 1)\n",
    "single_cat = [k for k, v in cat_dict.items() if v == True]\n",
    "df.category_list = df.category_list.apply(lambda x: 'unique_company' if x in (single_cat) else x)\n",
    "df.top_univ_in_city = df.top_univ_in_city.map({True:1, False:0})\n",
    "\n"
   ]
  },
  {
   "cell_type": "code",
   "execution_count": 64,
   "metadata": {},
   "outputs": [],
   "source": [
    "y = df.status\n",
    "X = df.drop(['status', 'category_list', 'funding_total_usd', 'state_code', 'region',\n",
    "            'city', 'funding_rounds', 'founded_at', 'first_funding_at', 'last_funding_at',\n",
    "            'first_last_funding', 'unique_industry_names_in_city', 'zip', 'lat', 'long', 'ratio_fail_by_region'], axis=1)"
   ]
  },
  {
   "cell_type": "code",
   "execution_count": null,
   "metadata": {},
   "outputs": [],
   "source": [
    "# VIF_selection = df.drop(['category_list', 'state_code', 'region', 'city', 'status', 'funding_total_usd'], axis=1)\n",
    "\n",
    "def calculate_vif_(X, thresh=5.0):\n",
    "    variables = list(range(X.shape[1]))\n",
    "    dropped = True\n",
    "    while dropped:\n",
    "        dropped = False\n",
    "        vif = [variance_inflation_factor(X.iloc[:, variables].values, ix)\n",
    "               for ix in range(X.iloc[:, variables].shape[1])]\n",
    "\n",
    "        maxloc = vif.index(max(vif))\n",
    "        if max(vif) > thresh:\n",
    "            print('dropping \\'' + X.iloc[:, variables].columns[maxloc] +\n",
    "                  '\\' at index: ' + str(maxloc))\n",
    "            del variables[maxloc]\n",
    "            dropped = True\n",
    "\n",
    "    print('Remaining variables:')\n",
    "    print(X.columns[variables])\n",
    "    return X.iloc[:, variables]\n",
    "\n",
    "calculate_vif_(X)"
   ]
  },
  {
   "cell_type": "code",
   "execution_count": 65,
   "metadata": {},
   "outputs": [],
   "source": [
    "X = df[['category_list','average_funding', 'len_of_company_name', 'len_of_company_url', 'num_of_company_cat', 'first_funding_total_per_region', 'avg_first_funding_per_region', 'city_count', 'first_funding_total_per_state_code', 'avg_first_funding_per_state_code', 'population_by_state', 'pop_per_city', 'pop_density_per_city', 'top_univ_in_city', 'num_top_univ_per_state']]\n",
    "X = pd.get_dummies(X, drop_first=True)\n",
    "X_cols = X.columns.tolist()\n",
    "\n",
    "scaler = MinMaxScaler(feature_range = (0,1))\n",
    "X = scaler.fit_transform(X)\n",
    "X = pd.DataFrame(data=X, columns = X_cols)\n",
    "\n",
    "sm = SMOTE(random_state=2)\n",
    "X, y = sm.fit_resample(X, y)\n",
    "y = y.map({'succeed': 1, 'fail': 0})"
   ]
  },
  {
   "cell_type": "code",
   "execution_count": null,
   "metadata": {},
   "outputs": [],
   "source": [
    "rf = RandomForestClassifier(n_jobs=-1, class_weight='balanced', max_depth=5)\n",
    "boruta = BorutaPy(rf, n_estimators='auto', random_state=4242, max_iter= 50, perc=90)\n",
    "\n",
    "boruta.fit(np.array(X), np.array(y))"
   ]
  },
  {
   "cell_type": "code",
   "execution_count": null,
   "metadata": {},
   "outputs": [],
   "source": [
    "strong_features = X.columns[boruta.support_].to_list()\n",
    "weak_features = X.columns[boruta.support_weak_].to_list()"
   ]
  },
  {
   "cell_type": "code",
   "execution_count": 66,
   "metadata": {},
   "outputs": [],
   "source": [
    "weak_features = ['category_list_crowdsourcing',\n",
    " 'category_list_design',\n",
    " 'category_list_groceries',\n",
    " 'category_list_parenting',\n",
    " 'category_list_semiconductors']"
   ]
  },
  {
   "cell_type": "code",
   "execution_count": 67,
   "metadata": {},
   "outputs": [],
   "source": [
    "X = X.drop(weak_features, axis=1)"
   ]
  },
  {
   "cell_type": "code",
   "execution_count": null,
   "metadata": {},
   "outputs": [],
   "source": []
  },
  {
   "cell_type": "markdown",
   "metadata": {},
   "source": [
    "#### Dummy Model"
   ]
  },
  {
   "cell_type": "code",
   "execution_count": 68,
   "metadata": {},
   "outputs": [
    {
     "data": {
      "text/plain": [
       "0.5"
      ]
     },
     "execution_count": 68,
     "metadata": {},
     "output_type": "execute_result"
    }
   ],
   "source": [
    "dummy_clf = DummyClassifier(strategy=\"most_frequent\")\n",
    "dummy_clf.fit(X, y)\n",
    "DummyClassifier(strategy='most_frequent')\n",
    "y_pred = dummy_clf.predict(X)\n",
    "dummy_clf.score(X, y)"
   ]
  },
  {
   "cell_type": "code",
   "execution_count": 69,
   "metadata": {},
   "outputs": [],
   "source": [
    "def metric_display(y, y_pred):\n",
    "    fig, axes = plt.subplots(1, 2, figsize=(10, 4))\n",
    "    cf_matrix = confusion_matrix(y, y_pred)\n",
    "\n",
    "    labels = ['True Neg','False Pos','False Neg','True Pos']\n",
    "    labels = np.asarray(labels).reshape(2,2)\n",
    "\n",
    "    sns.heatmap(cf_matrix/np.sum(cf_matrix), annot=True, \n",
    "                fmt='.2%', cmap='Blues', ax=axes[0])\n",
    "\n",
    "    sns.heatmap(cf_matrix, annot=labels, fmt='', cmap='Blues', ax=axes[1])"
   ]
  },
  {
   "cell_type": "code",
   "execution_count": 70,
   "metadata": {},
   "outputs": [
    {
     "data": {
      "image/png": "[encoded data removed]",
      "text/plain": [
       "<Figure size 720x288 with 4 Axes>"
      ]
     },
     "metadata": {
      "needs_background": "light"
     },
     "output_type": "display_data"
    }
   ],
   "source": [
    "fig = metric_display(y, y_pred)\n",
    "fig"
   ]
  },
  {
   "cell_type": "markdown",
   "metadata": {},
   "source": [
    "#### What score measure should our models emphasize? \n",
    "Accuracy is important, but I am selecting recall as the most important metric as a False Positive in our case, is a business has been identified as a failiure, but it actually has a higher chance to succeed. This is a most investment oprotunity, but no money is lost. For our False Negative, we identified a business as one that would succeed, but it turns out it is more likely to fail. This would more likely cause a loss. As a mixture of recall and accuracy, F1 score can be used."
   ]
  },
  {
   "cell_type": "code",
   "execution_count": 71,
   "metadata": {},
   "outputs": [],
   "source": [
    "X_train, X_test, y_train, y_test = train_test_split(X, y, test_size=0.2)\n",
    "X, y = shuffle(X, y, random_state=42)"
   ]
  },
  {
   "cell_type": "code",
   "execution_count": null,
   "metadata": {},
   "outputs": [],
   "source": [
    "models = [RidgeClassifier(), RandomForestClassifier(), xgb.XGBClassifier()]\n",
    "\n",
    "k_fold = KFold(n_splits=10, shuffle=True)\n",
    "\n",
    "model_score_dict = defaultdict(list)\n",
    "\n",
    "for model in models:\n",
    "    \n",
    "    model = model\n",
    "    \n",
    "    accuracy_lst = []\n",
    "    precision_lst = []\n",
    "    recall_lst = []\n",
    "    balanced_accuracy = []\n",
    "    \n",
    "    for train_i, test_i in k_fold.split(X_train):\n",
    "        model.fit(X_train.values[train_i],\n",
    "                  y_train.values[train_i])\n",
    "        y_pred = model.predict(X_train.values[test_i])\n",
    "        \n",
    "        accuracy_lst.append(accuracy_score(y_train.values[test_i], y_pred))\n",
    "        precision_lst.append(precision_score(y_train.values[test_i], y_pred))\n",
    "        recall_lst.append(recall_score(y_train.values[test_i], y_pred))\n",
    "        balanced_accuracy.append(balanced_accuracy_score(y_train.values[test_i], y_pred))\n",
    "    \n",
    "    \n",
    "    acc_mean = np.mean(accuracy_lst)\n",
    "    pre_mean = np.mean(precision_lst)\n",
    "    rec_mean = np.mean(recall_lst)\n",
    "    bal_mean = np.mean(balanced_accuracy)\n",
    "    \n",
    "    model_score_dict[model].append(acc_mean)\n",
    "    model_score_dict[model].append(pre_mean)\n",
    "    model_score_dict[model].append(rec_mean)\n",
    "    model_score_dict[model].append(bal_mean)\n",
    "    "
   ]
  },
  {
   "cell_type": "code",
   "execution_count": null,
   "metadata": {},
   "outputs": [],
   "source": [
    "model_df = pd.DataFrame(model_score_dict)\n",
    "model_df.index = ['accuracy', 'precision', 'recall', 'balanced_accuracy']"
   ]
  },
  {
   "cell_type": "code",
   "execution_count": null,
   "metadata": {},
   "outputs": [],
   "source": [
    "model_df"
   ]
  },
  {
   "cell_type": "markdown",
   "metadata": {},
   "source": [
    "#### Baseline LogisticRegression"
   ]
  },
  {
   "cell_type": "code",
   "execution_count": 72,
   "metadata": {},
   "outputs": [
    {
     "name": "stdout",
     "output_type": "stream",
     "text": [
      "0.6515979586666184\n"
     ]
    },
    {
     "data": {
      "image/png": "[encoded data removed]",
      "text/plain": [
       "<Figure size 720x288 with 4 Axes>"
      ]
     },
     "metadata": {
      "needs_background": "light"
     },
     "output_type": "display_data"
    }
   ],
   "source": [
    "model = LogisticRegression()\n",
    "model.fit(X_train, y_train)\n",
    "y_pred = model.predict(X_train)\n",
    "print(recall_score(y_train, y_pred))\n",
    "\n",
    "fig = metric_display(y_train, y_pred)"
   ]
  },
  {
   "cell_type": "markdown",
   "metadata": {},
   "source": [
    "#### Hyperparam Tuning Logistic Regression\n",
    "Model is selected due to coef interpretability"
   ]
  },
  {
   "cell_type": "code",
   "execution_count": null,
   "metadata": {},
   "outputs": [],
   "source": [
    "lr = LogisticRegression()\n",
    "params_lr = {'penalty':['l1', 'l2'], 'C': np.logspace(-4, 4, 20).tolist(), 'n_jobs':[-1], 'solver': ['liblinear']}\n",
    "\n",
    "lr_tunesearch = TuneSearchCV(lr, params_lr, n_trials=5, use_gpu=True, scoring='recall')\n",
    "lr_tunesearch.fit(X_train, y_train)\n",
    "\n",
    "lr_best = lr_tunesearch.best_estimator_\n",
    "print(lr_tunesearch.best_params_)"
   ]
  },
  {
   "cell_type": "code",
   "execution_count": null,
   "metadata": {},
   "outputs": [],
   "source": [
    "lr_optimal_params = [penalty='l1', C=0.03359818286283781, solver='liblinear']"
   ]
  },
  {
   "cell_type": "code",
   "execution_count": 73,
   "metadata": {},
   "outputs": [
    {
     "name": "stdout",
     "output_type": "stream",
     "text": [
      "0.7358978039328262\n"
     ]
    },
    {
     "data": {
      "image/png": "[encoded data removed]",
      "text/plain": [
       "<Figure size 720x288 with 4 Axes>"
      ]
     },
     "metadata": {
      "needs_background": "light"
     },
     "output_type": "display_data"
    }
   ],
   "source": [
    "optimal_lr = LogisticRegression(penalty='l1', C=0.03359818286283781, solver='liblinear')\n",
    "optimal_lr.fit(X_train, y_train)\n",
    "y_pred = optimal_lr.predict(X_test)\n",
    "print(recall_score(y_test, y_pred))\n",
    "\n",
    "metric_display(y_test, y_pred)"
   ]
  },
  {
   "cell_type": "code",
   "execution_count": null,
   "metadata": {},
   "outputs": [],
   "source": [
    "# observing the top 10 coef\n",
    "odds = np.exp(optimal_lr.coef_[0])\n",
    "coef_df = pd.DataFrame(odds, \n",
    "             X.columns, \n",
    "             columns=['coef'])\\\n",
    "            .sort_values(by='coef', ascending=False)\n",
    "\n",
    "\n",
    "'''\n",
    "For every one-unit increase in [X variable],\n",
    "the odds that the observation is in (y class) are [coefficient] times as large \n",
    "as the odds that the observation is not in (y class) when all other variables are held constant\n",
    "'''\n",
    "\n",
    "# For every one percent increase in the ratio of success in a region, the odds that the a company will succeed are roughly 4 times as large\n",
    "# as the odds that the company will not succeed when all other variables are held constant.\n",
    "\n",
    "coef_df = coef_df.iloc[:15, :]"
   ]
  },
  {
   "cell_type": "code",
   "execution_count": null,
   "metadata": {},
   "outputs": [],
   "source": [
    "fig = px.bar(coef_df, x='coef')\n",
    "\n",
    "fig.update_layout(\n",
    "    xaxis_title_text='Size of Coefficient',\n",
    "    yaxis_title_text='Features',\n",
    "    bargap=0.2, showlegend=True,\n",
    "    title_text='Top 15 Coefficients for Logistic Regression',\n",
    "    title_x=0.5,\n",
    ")\n",
    "# fig.write_image(\"../image s/lr_coef.png\")\n",
    "fig.show();"
   ]
  },
  {
   "cell_type": "markdown",
   "metadata": {},
   "source": [
    "#### Find Optimal Random Forest Hyperparams for Recall and Balanced Accuracy"
   ]
  },
  {
   "cell_type": "code",
   "execution_count": null,
   "metadata": {},
   "outputs": [],
   "source": [
    "rf = RandomForestClassifier()\n",
    "params_rf = {'n_estimators': [50, 100, 200], 'max_features':['auto', 'sqrt'], 'max_depth':[int(x) for x in np.linspace(10, 110, num = 11)], 'min_samples_split': [2, 5, 10]}\n",
    "\n",
    "rf_tunesearch = TuneSearchCV(rf, params_rf, cv=3, verbose=1, use_gpu=True, scoring='balanced_accuracy')\n",
    "rf_tunesearch.fit(X_train, y_train)\n",
    "\n",
    "rf_best = rf_tunesearch.best_estimator_\n",
    "print(rf_tunesearch.best_params_)"
   ]
  },
  {
   "cell_type": "code",
   "execution_count": null,
   "metadata": {},
   "outputs": [],
   "source": [
    "balanced_forest_optimal_params = {'n_estimators': 100, 'max_features': 'sqrt', 'max_depth': 70, 'min_samples_split': 2}\n",
    "recall_forest_optimal_params = {'n_estimators': 200, 'max_features': 'sqrt', 'max_depth': 90, 'min_samples_split': 5}"
   ]
  },
  {
   "cell_type": "markdown",
   "metadata": {},
   "source": [
    "##### Create optimal Random Forest Models for Recall and Balanced Accuracy"
   ]
  },
  {
   "cell_type": "code",
   "execution_count": null,
   "metadata": {},
   "outputs": [],
   "source": [
    "optimal_balanced_rf = RandomForestClassifier(n_estimators=100, max_features='sqrt', max_depth=70, min_samples_split=2)\n",
    "optimal_balanced_rf.fit(X_train, y_train)\n",
    "y_pred = optimal_balanced_rf.predict(X_test)\n",
    "\n",
    "print(recall_score(y_test, y_pred))\n",
    "metric_display(y_test, y_pred)"
   ]
  },
  {
   "cell_type": "code",
   "execution_count": null,
   "metadata": {},
   "outputs": [],
   "source": [
    "optimal_recall_rf = RandomForestClassifier(n_estimators=200, max_features='sqrt', max_depth=90, min_samples_split=5)\n",
    "optimal_recall_rf.fit(X_train, y_train)\n",
    "y_pred = optimal_recall_rf.predict(X_test)\n",
    "\n",
    "print(recall_score(y_test, y_pred))\n",
    "metric_display(y_test, y_pred)"
   ]
  },
  {
   "cell_type": "markdown",
   "metadata": {},
   "source": [
    "#### Ensemble Models"
   ]
  },
  {
   "cell_type": "code",
   "execution_count": null,
   "metadata": {},
   "outputs": [],
   "source": [
    "\n",
    "estimators=[('rf_recall', optimal_recall_rf), ('lr', optimal_lr), ('rf_balanced', optimal_balanced_rf)]\n",
    "\n",
    "ensemble = VotingClassifier(estimators, voting='hard')"
   ]
  },
  {
   "cell_type": "code",
   "execution_count": null,
   "metadata": {},
   "outputs": [],
   "source": [
    "ensemble.fit(X_train, y_train)\n",
    "y_pred = ensemble.predict(X_test)\n",
    "\n",
    "\n",
    "print(recall_score(y_test, y_pred))\n",
    "\n",
    "metric_display(y_test, y_pred)"
   ]
  },
  {
   "cell_type": "code",
   "execution_count": null,
   "metadata": {},
   "outputs": [],
   "source": [
    "pca = PCA()\n",
    "\n",
    "lr = LogisticRegression()\n",
    "\n",
    "pipe = Pipeline(steps=[('pca', pca),\n",
    "                       ('logistic_reg', lr)])\n",
    "\n",
    "n_components = list(range(1, 50))\n",
    "C = np.logspace(-4, 4, 50)\n",
    "penalty = ['l1', 'l2']\n",
    "\n",
    "parameters = dict(pca__n_components=n_components,\n",
    "                      logistic_reg__C=C,\n",
    "                      logistic_reg__penalty=penalty)"
   ]
  },
  {
   "cell_type": "markdown",
   "metadata": {},
   "source": [
    "#### optimizing Logistic Regression with PCA"
   ]
  },
  {
   "cell_type": "code",
   "execution_count": null,
   "metadata": {},
   "outputs": [],
   "source": [
    "lr_gridsearch = GridSearchCV(pipe, parameters, scoring='recall', n_jobs=-1)\n",
    "lr_gridsearch.fit(X, y)"
   ]
  },
  {
   "cell_type": "code",
   "execution_count": null,
   "metadata": {},
   "outputs": [],
   "source": [
    "print('Best Penalty:', lr_gridsearch.best_estimator_.get_params()['logistic_reg__penalty'])\n",
    "print('Best C:', lr_gridsearch.best_estimator_.get_params()['logistic_reg__C'])\n",
    "print('Best Number Of Components:', lr_gridsearch.best_estimator_.get_params()['pca__n_components'])\n",
    "print(); print(lr_gridsearch.best_estimator_.get_params()['logistic_reg'])"
   ]
  },
  {
   "cell_type": "code",
   "execution_count": null,
   "metadata": {},
   "outputs": [],
   "source": [
    "'''Best gridsearch with pca: GridSearchCV(estimator=Pipeline(steps=[('pca', PCA()),\n",
    "                                       ('logistic_reg', LogisticRegression())]),\n",
    "             n_jobs=-1,\n",
    "             param_grid={'logistic_reg__C': array([1.00000000e-04, 1.45634848e-04, 2.12095089e-04, 3.08884360e-04,\n",
    "       4.49843267e-04, 6.55128557e-04, 9.54095476e-04, 1.38949549e-03,\n",
    "       2.02358965e-03, 2.94705170e-03, 4.29193426e-03, 6.25055193e-03,\n",
    "       9.10298178e-03, 1.32571137e-02,...\n",
    "       7.54312006e+01, 1.09854114e+02, 1.59985872e+02, 2.32995181e+02,\n",
    "       3.39322177e+02, 4.94171336e+02, 7.19685673e+02, 1.04811313e+03,\n",
    "       1.52641797e+03, 2.22299648e+03, 3.23745754e+03, 4.71486636e+03,\n",
    "       6.86648845e+03, 1.00000000e+04]),\n",
    "                         'logistic_reg__penalty': ['l1', 'l2'],\n",
    "                         'pca__n_components': [1, 2, 3, 4, 5, 6, 7, 8, 9, 10,\n",
    "                                               11, 12, 13, 14, 15, 16, 17, 18,\n",
    "                                               19, 20, 21, 22, 23, 24, 25, 26,\n",
    "                                               27, 28, 29, 30, ...]},\n",
    "             scoring='recall')\n",
    "             \n",
    "             \n",
    "Best Penalty: l2\n",
    "Best C: 0.3906939937054613\n",
    "Best Number Of Components: 45\n",
    "\n",
    "LogisticRegression(C=0.3906939937054613)'''    "
   ]
  },
  {
   "cell_type": "code",
   "execution_count": null,
   "metadata": {},
   "outputs": [],
   "source": [
    "pca = PCA(n_components=45)\n",
    "\n",
    "lr = LogisticRegression(penalty='l2', C=0.3906939937054613)\n",
    "\n",
    "pipe = Pipeline(steps=[('pca', pca),\n",
    "                       ('logistic_reg', lr)])\n",
    "pipe.fit(X_train, y_train)\n",
    "y_pred = pipe.predict(X_test)\n",
    "\n",
    "print(recall_score(y_test, y_pred))\n",
    "\n",
    "metric_display(y_test, y_pred)"
   ]
  },
  {
   "cell_type": "markdown",
   "metadata": {},
   "source": [
    "#### Random Forest model interpretation"
   ]
  },
  {
   "cell_type": "code",
   "execution_count": 74,
   "metadata": {},
   "outputs": [
    {
     "name": "stdout",
     "output_type": "stream",
     "text": [
      "0.9745945170087555\n"
     ]
    },
    {
     "data": {
      "image/png": "[encoded data removed]",
      "text/plain": [
       "<Figure size 720x288 with 4 Axes>"
      ]
     },
     "metadata": {
      "needs_background": "light"
     },
     "output_type": "display_data"
    }
   ],
   "source": [
    "optimal_recall_rf = RandomForestClassifier(n_estimators=200, max_features='sqrt', n_jobs=-1, max_depth=90, min_samples_split=5)\n",
    "optimal_recall_rf.fit(X_train, y_train)\n",
    "y_pred = optimal_recall_rf.predict(X_test)\n",
    "\n",
    "print(recall_score(y_test, y_pred))\n",
    "metric_display(y_test, y_pred)"
   ]
  },
  {
   "cell_type": "code",
   "execution_count": 75,
   "metadata": {},
   "outputs": [
    {
     "data": {
      "text/plain": [
       "Text(0, 0.5, 'FEATURE NAMES')"
      ]
     },
     "execution_count": 75,
     "metadata": {},
     "output_type": "execute_result"
    },
    {
     "data": {
      "image/png": "[encoded data removed]",
      "text/plain": [
       "<Figure size 864x720 with 1 Axes>"
      ]
     },
     "metadata": {
      "needs_background": "light"
     },
     "output_type": "display_data"
    }
   ],
   "source": [
    "optimal_recall_rf.feature_importances_\n",
    "\n",
    "features = X.columns.tolist()\n",
    "importances = optimal_recall_rf.feature_importances_\n",
    "indices = np.argsort(importances)[:15]\n",
    "\n",
    "\n",
    "feature_importance = optimal_recall_rf.feature_importances_\n",
    "feature_names = X.columns.tolist()\n",
    "\n",
    "\n",
    "data={'feature_names':feature_names,'feature_importance':feature_importance}\n",
    "fi_df = pd.DataFrame(data)\n",
    "\n",
    "fi_df.sort_values(by=['feature_importance'], ascending=False,inplace=True)\n",
    "fi_df = fi_df.iloc[:10, :]\n",
    "\n",
    "\n",
    "plt.figure(figsize=(12,10))\n",
    "sns.barplot(x=fi_df['feature_importance'], y=fi_df['feature_names'])\n",
    "\n",
    "plt.xlabel('FEATURE IMPORTANCE')\n",
    "plt.ylabel('FEATURE NAMES')\n",
    "# plt.savefig('../images/feature_importance_rf')"
   ]
  },
  {
   "cell_type": "code",
   "execution_count": null,
   "metadata": {},
   "outputs": [],
   "source": []
  }
 ],
 "metadata": {
  "kernelspec": {
   "display_name": "Python 3",
   "language": "python",
   "name": "python3"
  },
  "language_info": {
   "codemirror_mode": {
    "name": "ipython",
    "version": 3
   },
   "file_extension": ".py",
   "mimetype": "text/x-python",
   "name": "python",
   "nbconvert_exporter": "python",
   "pygments_lexer": "ipython3",
   "version": "3.8.5"
  }
 },
 "nbformat": 4,
 "nbformat_minor": 4
}

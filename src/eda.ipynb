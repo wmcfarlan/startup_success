{
 "cells": [
  {
   "cell_type": "code",
   "execution_count": 1,
   "metadata": {},
   "outputs": [
    {
     "data": {
      "text/html": [
       "        <script type=\"text/javascript\">\n",
       "        window.PlotlyConfig = {MathJaxConfig: 'local'};\n",
       "        if (window.MathJax) {MathJax.Hub.Config({SVG: {font: \"STIX-Web\"}});}\n",
       "        if (typeof require !== 'undefined') {\n",
       "        require.undef(\"plotly\");\n",
       "        requirejs.config({\n",
       "            paths: {\n",
       "                'plotly': ['https://cdn.plot.ly/plotly-latest.min']\n",
       "            }\n",
       "        });\n",
       "        require(['plotly'], function(Plotly) {\n",
       "            window._Plotly = Plotly;\n",
       "        });\n",
       "        }\n",
       "        </script>\n",
       "        "
      ]
     },
     "metadata": {},
     "output_type": "display_data"
    }
   ],
   "source": [
    "# basic imports\n",
    "import pandas as pd\n",
    "import numpy as np\n",
    "\n",
    "# display options\n",
    "pd.set_option('display.max_rows', 500)\n",
    "pd.set_option('display.max_columns', 500)\n",
    "pd.set_option('display.width', 1000)\n",
    "\n",
    "# visualization libraries\n",
    "import matplotlib.pyplot as plt\n",
    "import seaborn as sns\n",
    "import plotly.express as px\n",
    "import plotly.graph_objects as go\n",
    "import plotly.figure_factory as ff\n",
    "from plotly.subplots import make_subplots\n",
    "\n",
    "# custom helper functions\n",
    "%load_ext autoreload\n",
    "%autoreload 2\n",
    "from helper import *\n",
    "\n",
    "# view plotly in jupyter \n",
    "from plotly.offline import download_plotlyjs, init_notebook_mode, plot, iplot\n",
    "init_notebook_mode(connected=True)\n",
    "\n",
    "# ignore warnings\n",
    "import warnings\n",
    "warnings.filterwarnings(\"ignore\")"
   ]
  },
  {
   "cell_type": "markdown",
   "metadata": {},
   "source": [
    "#### Load Data"
   ]
  },
  {
   "cell_type": "code",
   "execution_count": null,
   "metadata": {},
   "outputs": [],
   "source": [
    "original_df = pd.read_csv('../data/companies_1.csv')"
   ]
  },
  {
   "cell_type": "markdown",
   "metadata": {},
   "source": [
    "#### Preprocsessing and merging with class pipelines"
   ]
  },
  {
   "cell_type": "code",
   "execution_count": null,
   "metadata": {},
   "outputs": [],
   "source": [
    "pre_df = preprocess(original_df)"
   ]
  },
  {
   "cell_type": "code",
   "execution_count": null,
   "metadata": {},
   "outputs": [],
   "source": [
    "df = pre_df.pipeline(country_code='USA', drop_lst=['permalink' ,'name', 'homepage_url', 'country_code'])"
   ]
  },
  {
   "cell_type": "code",
   "execution_count": null,
   "metadata": {},
   "outputs": [],
   "source": [
    "'''Source: https://hub.arcgis.com/datasets/a2a8826c4ba44f89a684000fe7c05b8c_0/data?geometry=-124.929%2C29.271%2C125.560%2C67.358&page=5'''\n",
    "gdp_df = pd.read_csv('../data/Gross_Domestic_Product_(GDP)_by_state,_1997-2016.csv')\n",
    "\n",
    "'''Source: https://simplemaps.com/data/us-zips'''\n",
    "zip_df = pd.read_csv('../data/uszips.csv')\n",
    "\n",
    "'''Source: https://data.world/education/university-rankings-2017'''\n",
    "edu_df = pd.read_csv('../data/National-Universities-Rankings.csv', encoding='latin-1')"
   ]
  },
  {
   "cell_type": "code",
   "execution_count": null,
   "metadata": {},
   "outputs": [],
   "source": [
    "combined_df = merge_mult_df(df)\n",
    "combined_df = combined_df.merge_pipeline(gdp_df, zip_df, edu_df)"
   ]
  },
  {
   "cell_type": "code",
   "execution_count": null,
   "metadata": {},
   "outputs": [],
   "source": [
    "round_two = round_two_engineering(combined_df)\n",
    "df = round_two.engineering_pipeline()"
   ]
  },
  {
   "cell_type": "code",
   "execution_count": null,
   "metadata": {},
   "outputs": [],
   "source": [
    "# df.to_csv('../data/final_csv.csv', index=False)"
   ]
  },
  {
   "cell_type": "code",
   "execution_count": 5,
   "metadata": {},
   "outputs": [],
   "source": [
    "df = pd.read_csv('../data/final_csv.csv')"
   ]
  },
  {
   "cell_type": "markdown",
   "metadata": {},
   "source": [
    "#### EDA"
   ]
  },
  {
   "cell_type": "markdown",
   "metadata": {},
   "source": [
    "##### Top 10 States"
   ]
  },
  {
   "cell_type": "code",
   "execution_count": 4,
   "metadata": {},
   "outputs": [],
   "source": [
    "# group states by count\n",
    "top_ten_states = df.groupby('state_code').count().sort_values(by='category_list', ascending=False).iloc[:10, 0:2]"
   ]
  },
  {
   "cell_type": "code",
   "execution_count": 5,
   "metadata": {},
   "outputs": [
    {
     "data": {
      "application/vnd.plotly.v1+json": {
       "config": {
        "plotlyServerURL": "https://plot.ly"
       },
       "data": [
        {
         "alignmentgroup": "True",
         "hovertemplate": "category_list=%{x}<br>state_code=%{y}<extra></extra>",
         "legendgroup": "",
         "marker": {
          "color": "#636efa"
         },
         "name": "",
         "offsetgroup": "",
         "orientation": "h",
         "showlegend": false,
         "textposition": "auto",
         "type": "bar",
         "x": [
          12899,
          3950,
          2539,
          1995,
          1290,
          1261,
          1082,
          999,
          955,
          733
         ],
         "xaxis": "x",
         "y": [
          "CA",
          "NY",
          "MA",
          "TX",
          "FL",
          "WA",
          "IL",
          "PA",
          "CO",
          "VA"
         ],
         "yaxis": "y"
        }
       ],
       "layout": {
        "autosize": true,
        "bargap": 0.2,
        "barmode": "relative",
        "legend": {
         "tracegroupgap": 0
        },
        "margin": {
         "t": 60
        },
        "showlegend": true,
        "template": {
         "data": {
          "bar": [
           {
            "error_x": {
             "color": "#2a3f5f"
            },
            "error_y": {
             "color": "#2a3f5f"
            },
            "marker": {
             "line": {
              "color": "#E5ECF6",
              "width": 0.5
             }
            },
            "type": "bar"
           }
          ],
          "barpolar": [
           {
            "marker": {
             "line": {
              "color": "#E5ECF6",
              "width": 0.5
             }
            },
            "type": "barpolar"
           }
          ],
          "carpet": [
           {
            "aaxis": {
             "endlinecolor": "#2a3f5f",
             "gridcolor": "white",
             "linecolor": "white",
             "minorgridcolor": "white",
             "startlinecolor": "#2a3f5f"
            },
            "baxis": {
             "endlinecolor": "#2a3f5f",
             "gridcolor": "white",
             "linecolor": "white",
             "minorgridcolor": "white",
             "startlinecolor": "#2a3f5f"
            },
            "type": "carpet"
           }
          ],
          "choropleth": [
           {
            "colorbar": {
             "outlinewidth": 0,
             "ticks": ""
            },
            "type": "choropleth"
           }
          ],
          "contour": [
           {
            "colorbar": {
             "outlinewidth": 0,
             "ticks": ""
            },
            "colorscale": [
             [
              0,
              "#0d0887"
             ],
             [
              0.1111111111111111,
              "#46039f"
             ],
             [
              0.2222222222222222,
              "#7201a8"
             ],
             [
              0.3333333333333333,
              "#9c179e"
             ],
             [
              0.4444444444444444,
              "#bd3786"
             ],
             [
              0.5555555555555556,
              "#d8576b"
             ],
             [
              0.6666666666666666,
              "#ed7953"
             ],
             [
              0.7777777777777778,
              "#fb9f3a"
             ],
             [
              0.8888888888888888,
              "#fdca26"
             ],
             [
              1,
              "#f0f921"
             ]
            ],
            "type": "contour"
           }
          ],
          "contourcarpet": [
           {
            "colorbar": {
             "outlinewidth": 0,
             "ticks": ""
            },
            "type": "contourcarpet"
           }
          ],
          "heatmap": [
           {
            "colorbar": {
             "outlinewidth": 0,
             "ticks": ""
            },
            "colorscale": [
             [
              0,
              "#0d0887"
             ],
             [
              0.1111111111111111,
              "#46039f"
             ],
             [
              0.2222222222222222,
              "#7201a8"
             ],
             [
              0.3333333333333333,
              "#9c179e"
             ],
             [
              0.4444444444444444,
              "#bd3786"
             ],
             [
              0.5555555555555556,
              "#d8576b"
             ],
             [
              0.6666666666666666,
              "#ed7953"
             ],
             [
              0.7777777777777778,
              "#fb9f3a"
             ],
             [
              0.8888888888888888,
              "#fdca26"
             ],
             [
              1,
              "#f0f921"
             ]
            ],
            "type": "heatmap"
           }
          ],
          "heatmapgl": [
           {
            "colorbar": {
             "outlinewidth": 0,
             "ticks": ""
            },
            "colorscale": [
             [
              0,
              "#0d0887"
             ],
             [
              0.1111111111111111,
              "#46039f"
             ],
             [
              0.2222222222222222,
              "#7201a8"
             ],
             [
              0.3333333333333333,
              "#9c179e"
             ],
             [
              0.4444444444444444,
              "#bd3786"
             ],
             [
              0.5555555555555556,
              "#d8576b"
             ],
             [
              0.6666666666666666,
              "#ed7953"
             ],
             [
              0.7777777777777778,
              "#fb9f3a"
             ],
             [
              0.8888888888888888,
              "#fdca26"
             ],
             [
              1,
              "#f0f921"
             ]
            ],
            "type": "heatmapgl"
           }
          ],
          "histogram": [
           {
            "marker": {
             "colorbar": {
              "outlinewidth": 0,
              "ticks": ""
             }
            },
            "type": "histogram"
           }
          ],
          "histogram2d": [
           {
            "colorbar": {
             "outlinewidth": 0,
             "ticks": ""
            },
            "colorscale": [
             [
              0,
              "#0d0887"
             ],
             [
              0.1111111111111111,
              "#46039f"
             ],
             [
              0.2222222222222222,
              "#7201a8"
             ],
             [
              0.3333333333333333,
              "#9c179e"
             ],
             [
              0.4444444444444444,
              "#bd3786"
             ],
             [
              0.5555555555555556,
              "#d8576b"
             ],
             [
              0.6666666666666666,
              "#ed7953"
             ],
             [
              0.7777777777777778,
              "#fb9f3a"
             ],
             [
              0.8888888888888888,
              "#fdca26"
             ],
             [
              1,
              "#f0f921"
             ]
            ],
            "type": "histogram2d"
           }
          ],
          "histogram2dcontour": [
           {
            "colorbar": {
             "outlinewidth": 0,
             "ticks": ""
            },
            "colorscale": [
             [
              0,
              "#0d0887"
             ],
             [
              0.1111111111111111,
              "#46039f"
             ],
             [
              0.2222222222222222,
              "#7201a8"
             ],
             [
              0.3333333333333333,
              "#9c179e"
             ],
             [
              0.4444444444444444,
              "#bd3786"
             ],
             [
              0.5555555555555556,
              "#d8576b"
             ],
             [
              0.6666666666666666,
              "#ed7953"
             ],
             [
              0.7777777777777778,
              "#fb9f3a"
             ],
             [
              0.8888888888888888,
              "#fdca26"
             ],
             [
              1,
              "#f0f921"
             ]
            ],
            "type": "histogram2dcontour"
           }
          ],
          "mesh3d": [
           {
            "colorbar": {
             "outlinewidth": 0,
             "ticks": ""
            },
            "type": "mesh3d"
           }
          ],
          "parcoords": [
           {
            "line": {
             "colorbar": {
              "outlinewidth": 0,
              "ticks": ""
             }
            },
            "type": "parcoords"
           }
          ],
          "pie": [
           {
            "automargin": true,
            "type": "pie"
           }
          ],
          "scatter": [
           {
            "marker": {
             "colorbar": {
              "outlinewidth": 0,
              "ticks": ""
             }
            },
            "type": "scatter"
           }
          ],
          "scatter3d": [
           {
            "line": {
             "colorbar": {
              "outlinewidth": 0,
              "ticks": ""
             }
            },
            "marker": {
             "colorbar": {
              "outlinewidth": 0,
              "ticks": ""
             }
            },
            "type": "scatter3d"
           }
          ],
          "scattercarpet": [
           {
            "marker": {
             "colorbar": {
              "outlinewidth": 0,
              "ticks": ""
             }
            },
            "type": "scattercarpet"
           }
          ],
          "scattergeo": [
           {
            "marker": {
             "colorbar": {
              "outlinewidth": 0,
              "ticks": ""
             }
            },
            "type": "scattergeo"
           }
          ],
          "scattergl": [
           {
            "marker": {
             "colorbar": {
              "outlinewidth": 0,
              "ticks": ""
             }
            },
            "type": "scattergl"
           }
          ],
          "scattermapbox": [
           {
            "marker": {
             "colorbar": {
              "outlinewidth": 0,
              "ticks": ""
             }
            },
            "type": "scattermapbox"
           }
          ],
          "scatterpolar": [
           {
            "marker": {
             "colorbar": {
              "outlinewidth": 0,
              "ticks": ""
             }
            },
            "type": "scatterpolar"
           }
          ],
          "scatterpolargl": [
           {
            "marker": {
             "colorbar": {
              "outlinewidth": 0,
              "ticks": ""
             }
            },
            "type": "scatterpolargl"
           }
          ],
          "scatterternary": [
           {
            "marker": {
             "colorbar": {
              "outlinewidth": 0,
              "ticks": ""
             }
            },
            "type": "scatterternary"
           }
          ],
          "surface": [
           {
            "colorbar": {
             "outlinewidth": 0,
             "ticks": ""
            },
            "colorscale": [
             [
              0,
              "#0d0887"
             ],
             [
              0.1111111111111111,
              "#46039f"
             ],
             [
              0.2222222222222222,
              "#7201a8"
             ],
             [
              0.3333333333333333,
              "#9c179e"
             ],
             [
              0.4444444444444444,
              "#bd3786"
             ],
             [
              0.5555555555555556,
              "#d8576b"
             ],
             [
              0.6666666666666666,
              "#ed7953"
             ],
             [
              0.7777777777777778,
              "#fb9f3a"
             ],
             [
              0.8888888888888888,
              "#fdca26"
             ],
             [
              1,
              "#f0f921"
             ]
            ],
            "type": "surface"
           }
          ],
          "table": [
           {
            "cells": {
             "fill": {
              "color": "#EBF0F8"
             },
             "line": {
              "color": "white"
             }
            },
            "header": {
             "fill": {
              "color": "#C8D4E3"
             },
             "line": {
              "color": "white"
             }
            },
            "type": "table"
           }
          ]
         },
         "layout": {
          "annotationdefaults": {
           "arrowcolor": "#2a3f5f",
           "arrowhead": 0,
           "arrowwidth": 1
          },
          "autotypenumbers": "strict",
          "coloraxis": {
           "colorbar": {
            "outlinewidth": 0,
            "ticks": ""
           }
          },
          "colorscale": {
           "diverging": [
            [
             0,
             "#8e0152"
            ],
            [
             0.1,
             "#c51b7d"
            ],
            [
             0.2,
             "#de77ae"
            ],
            [
             0.3,
             "#f1b6da"
            ],
            [
             0.4,
             "#fde0ef"
            ],
            [
             0.5,
             "#f7f7f7"
            ],
            [
             0.6,
             "#e6f5d0"
            ],
            [
             0.7,
             "#b8e186"
            ],
            [
             0.8,
             "#7fbc41"
            ],
            [
             0.9,
             "#4d9221"
            ],
            [
             1,
             "#276419"
            ]
           ],
           "sequential": [
            [
             0,
             "#0d0887"
            ],
            [
             0.1111111111111111,
             "#46039f"
            ],
            [
             0.2222222222222222,
             "#7201a8"
            ],
            [
             0.3333333333333333,
             "#9c179e"
            ],
            [
             0.4444444444444444,
             "#bd3786"
            ],
            [
             0.5555555555555556,
             "#d8576b"
            ],
            [
             0.6666666666666666,
             "#ed7953"
            ],
            [
             0.7777777777777778,
             "#fb9f3a"
            ],
            [
             0.8888888888888888,
             "#fdca26"
            ],
            [
             1,
             "#f0f921"
            ]
           ],
           "sequentialminus": [
            [
             0,
             "#0d0887"
            ],
            [
             0.1111111111111111,
             "#46039f"
            ],
            [
             0.2222222222222222,
             "#7201a8"
            ],
            [
             0.3333333333333333,
             "#9c179e"
            ],
            [
             0.4444444444444444,
             "#bd3786"
            ],
            [
             0.5555555555555556,
             "#d8576b"
            ],
            [
             0.6666666666666666,
             "#ed7953"
            ],
            [
             0.7777777777777778,
             "#fb9f3a"
            ],
            [
             0.8888888888888888,
             "#fdca26"
            ],
            [
             1,
             "#f0f921"
            ]
           ]
          },
          "colorway": [
           "#636efa",
           "#EF553B",
           "#00cc96",
           "#ab63fa",
           "#FFA15A",
           "#19d3f3",
           "#FF6692",
           "#B6E880",
           "#FF97FF",
           "#FECB52"
          ],
          "font": {
           "color": "#2a3f5f"
          },
          "geo": {
           "bgcolor": "white",
           "lakecolor": "white",
           "landcolor": "#E5ECF6",
           "showlakes": true,
           "showland": true,
           "subunitcolor": "white"
          },
          "hoverlabel": {
           "align": "left"
          },
          "hovermode": "closest",
          "mapbox": {
           "style": "light"
          },
          "paper_bgcolor": "white",
          "plot_bgcolor": "#E5ECF6",
          "polar": {
           "angularaxis": {
            "gridcolor": "white",
            "linecolor": "white",
            "ticks": ""
           },
           "bgcolor": "#E5ECF6",
           "radialaxis": {
            "gridcolor": "white",
            "linecolor": "white",
            "ticks": ""
           }
          },
          "scene": {
           "xaxis": {
            "backgroundcolor": "#E5ECF6",
            "gridcolor": "white",
            "gridwidth": 2,
            "linecolor": "white",
            "showbackground": true,
            "ticks": "",
            "zerolinecolor": "white"
           },
           "yaxis": {
            "backgroundcolor": "#E5ECF6",
            "gridcolor": "white",
            "gridwidth": 2,
            "linecolor": "white",
            "showbackground": true,
            "ticks": "",
            "zerolinecolor": "white"
           },
           "zaxis": {
            "backgroundcolor": "#E5ECF6",
            "gridcolor": "white",
            "gridwidth": 2,
            "linecolor": "white",
            "showbackground": true,
            "ticks": "",
            "zerolinecolor": "white"
           }
          },
          "shapedefaults": {
           "line": {
            "color": "#2a3f5f"
           }
          },
          "ternary": {
           "aaxis": {
            "gridcolor": "white",
            "linecolor": "white",
            "ticks": ""
           },
           "baxis": {
            "gridcolor": "white",
            "linecolor": "white",
            "ticks": ""
           },
           "bgcolor": "#E5ECF6",
           "caxis": {
            "gridcolor": "white",
            "linecolor": "white",
            "ticks": ""
           }
          },
          "title": {
           "x": 0.05
          },
          "xaxis": {
           "automargin": true,
           "gridcolor": "white",
           "linecolor": "white",
           "ticks": "",
           "title": {
            "standoff": 15
           },
           "zerolinecolor": "white",
           "zerolinewidth": 2
          },
          "yaxis": {
           "automargin": true,
           "gridcolor": "white",
           "linecolor": "white",
           "ticks": "",
           "title": {
            "standoff": 15
           },
           "zerolinecolor": "white",
           "zerolinewidth": 2
          }
         }
        },
        "title": {
         "text": "Top 10 Start-Up States",
         "x": 0.5
        },
        "xaxis": {
         "anchor": "y",
         "autorange": true,
         "domain": [
          0,
          1
         ],
         "range": [
          0,
          13577.894736842105
         ],
         "title": {
          "text": "Number of Start-Ups per State"
         },
         "type": "linear"
        },
        "yaxis": {
         "anchor": "x",
         "autorange": true,
         "domain": [
          0,
          1
         ],
         "range": [
          -0.5,
          9.5
         ],
         "title": {
          "text": "States"
         },
         "type": "category"
        }
       }
      },
      "image/png": "[encoded data removed]",
      "text/html": [
       "<div>                            <div id=\"43180f6c-4aab-4021-b23e-133d509d0cd5\" class=\"plotly-graph-div\" style=\"height:525px; width:100%;\"></div>            <script type=\"text/javascript\">                require([\"plotly\"], function(Plotly) {                    window.PLOTLYENV=window.PLOTLYENV || {};                                    if (document.getElementById(\"43180f6c-4aab-4021-b23e-133d509d0cd5\")) {                    Plotly.newPlot(                        \"43180f6c-4aab-4021-b23e-133d509d0cd5\",                        [{\"alignmentgroup\": \"True\", \"hovertemplate\": \"category_list=%{x}<br>state_code=%{y}<extra></extra>\", \"legendgroup\": \"\", \"marker\": {\"color\": \"#636efa\"}, \"name\": \"\", \"offsetgroup\": \"\", \"orientation\": \"h\", \"showlegend\": false, \"textposition\": \"auto\", \"type\": \"bar\", \"x\": [12899, 3950, 2539, 1995, 1290, 1261, 1082, 999, 955, 733], \"xaxis\": \"x\", \"y\": [\"CA\", \"NY\", \"MA\", \"TX\", \"FL\", \"WA\", \"IL\", \"PA\", \"CO\", \"VA\"], \"yaxis\": \"y\"}],                        {\"bargap\": 0.2, \"barmode\": \"relative\", \"legend\": {\"tracegroupgap\": 0}, \"margin\": {\"t\": 60}, \"showlegend\": true, \"template\": {\"data\": {\"bar\": [{\"error_x\": {\"color\": \"#2a3f5f\"}, \"error_y\": {\"color\": \"#2a3f5f\"}, \"marker\": {\"line\": {\"color\": \"#E5ECF6\", \"width\": 0.5}}, \"type\": \"bar\"}], \"barpolar\": [{\"marker\": {\"line\": {\"color\": \"#E5ECF6\", \"width\": 0.5}}, \"type\": \"barpolar\"}], \"carpet\": [{\"aaxis\": {\"endlinecolor\": \"#2a3f5f\", \"gridcolor\": \"white\", \"linecolor\": \"white\", \"minorgridcolor\": \"white\", \"startlinecolor\": \"#2a3f5f\"}, \"baxis\": {\"endlinecolor\": \"#2a3f5f\", \"gridcolor\": \"white\", \"linecolor\": \"white\", \"minorgridcolor\": \"white\", \"startlinecolor\": \"#2a3f5f\"}, \"type\": \"carpet\"}], \"choropleth\": [{\"colorbar\": {\"outlinewidth\": 0, \"ticks\": \"\"}, \"type\": \"choropleth\"}], \"contour\": [{\"colorbar\": {\"outlinewidth\": 0, \"ticks\": \"\"}, \"colorscale\": [[0.0, \"#0d0887\"], [0.1111111111111111, \"#46039f\"], [0.2222222222222222, \"#7201a8\"], [0.3333333333333333, \"#9c179e\"], [0.4444444444444444, \"#bd3786\"], [0.5555555555555556, \"#d8576b\"], [0.6666666666666666, \"#ed7953\"], [0.7777777777777778, \"#fb9f3a\"], [0.8888888888888888, \"#fdca26\"], [1.0, \"#f0f921\"]], \"type\": \"contour\"}], \"contourcarpet\": [{\"colorbar\": {\"outlinewidth\": 0, \"ticks\": \"\"}, \"type\": \"contourcarpet\"}], \"heatmap\": [{\"colorbar\": {\"outlinewidth\": 0, \"ticks\": \"\"}, \"colorscale\": [[0.0, \"#0d0887\"], [0.1111111111111111, \"#46039f\"], [0.2222222222222222, \"#7201a8\"], [0.3333333333333333, \"#9c179e\"], [0.4444444444444444, \"#bd3786\"], [0.5555555555555556, \"#d8576b\"], [0.6666666666666666, \"#ed7953\"], [0.7777777777777778, \"#fb9f3a\"], [0.8888888888888888, \"#fdca26\"], [1.0, \"#f0f921\"]], \"type\": \"heatmap\"}], \"heatmapgl\": [{\"colorbar\": {\"outlinewidth\": 0, \"ticks\": \"\"}, \"colorscale\": [[0.0, \"#0d0887\"], [0.1111111111111111, \"#46039f\"], [0.2222222222222222, \"#7201a8\"], [0.3333333333333333, \"#9c179e\"], [0.4444444444444444, \"#bd3786\"], [0.5555555555555556, \"#d8576b\"], [0.6666666666666666, \"#ed7953\"], [0.7777777777777778, \"#fb9f3a\"], [0.8888888888888888, \"#fdca26\"], [1.0, \"#f0f921\"]], \"type\": \"heatmapgl\"}], \"histogram\": [{\"marker\": {\"colorbar\": {\"outlinewidth\": 0, \"ticks\": \"\"}}, \"type\": \"histogram\"}], \"histogram2d\": [{\"colorbar\": {\"outlinewidth\": 0, \"ticks\": \"\"}, \"colorscale\": [[0.0, \"#0d0887\"], [0.1111111111111111, \"#46039f\"], [0.2222222222222222, \"#7201a8\"], [0.3333333333333333, \"#9c179e\"], [0.4444444444444444, \"#bd3786\"], [0.5555555555555556, \"#d8576b\"], [0.6666666666666666, \"#ed7953\"], [0.7777777777777778, \"#fb9f3a\"], [0.8888888888888888, \"#fdca26\"], [1.0, \"#f0f921\"]], \"type\": \"histogram2d\"}], \"histogram2dcontour\": [{\"colorbar\": {\"outlinewidth\": 0, \"ticks\": \"\"}, \"colorscale\": [[0.0, \"#0d0887\"], [0.1111111111111111, \"#46039f\"], [0.2222222222222222, \"#7201a8\"], [0.3333333333333333, \"#9c179e\"], [0.4444444444444444, \"#bd3786\"], [0.5555555555555556, \"#d8576b\"], [0.6666666666666666, \"#ed7953\"], [0.7777777777777778, \"#fb9f3a\"], [0.8888888888888888, \"#fdca26\"], [1.0, \"#f0f921\"]], \"type\": \"histogram2dcontour\"}], \"mesh3d\": [{\"colorbar\": {\"outlinewidth\": 0, \"ticks\": \"\"}, \"type\": \"mesh3d\"}], \"parcoords\": [{\"line\": {\"colorbar\": {\"outlinewidth\": 0, \"ticks\": \"\"}}, \"type\": \"parcoords\"}], \"pie\": [{\"automargin\": true, \"type\": \"pie\"}], \"scatter\": [{\"marker\": {\"colorbar\": {\"outlinewidth\": 0, \"ticks\": \"\"}}, \"type\": \"scatter\"}], \"scatter3d\": [{\"line\": {\"colorbar\": {\"outlinewidth\": 0, \"ticks\": \"\"}}, \"marker\": {\"colorbar\": {\"outlinewidth\": 0, \"ticks\": \"\"}}, \"type\": \"scatter3d\"}], \"scattercarpet\": [{\"marker\": {\"colorbar\": {\"outlinewidth\": 0, \"ticks\": \"\"}}, \"type\": \"scattercarpet\"}], \"scattergeo\": [{\"marker\": {\"colorbar\": {\"outlinewidth\": 0, \"ticks\": \"\"}}, \"type\": \"scattergeo\"}], \"scattergl\": [{\"marker\": {\"colorbar\": {\"outlinewidth\": 0, \"ticks\": \"\"}}, \"type\": \"scattergl\"}], \"scattermapbox\": [{\"marker\": {\"colorbar\": {\"outlinewidth\": 0, \"ticks\": \"\"}}, \"type\": \"scattermapbox\"}], \"scatterpolar\": [{\"marker\": {\"colorbar\": {\"outlinewidth\": 0, \"ticks\": \"\"}}, \"type\": \"scatterpolar\"}], \"scatterpolargl\": [{\"marker\": {\"colorbar\": {\"outlinewidth\": 0, \"ticks\": \"\"}}, \"type\": \"scatterpolargl\"}], \"scatterternary\": [{\"marker\": {\"colorbar\": {\"outlinewidth\": 0, \"ticks\": \"\"}}, \"type\": \"scatterternary\"}], \"surface\": [{\"colorbar\": {\"outlinewidth\": 0, \"ticks\": \"\"}, \"colorscale\": [[0.0, \"#0d0887\"], [0.1111111111111111, \"#46039f\"], [0.2222222222222222, \"#7201a8\"], [0.3333333333333333, \"#9c179e\"], [0.4444444444444444, \"#bd3786\"], [0.5555555555555556, \"#d8576b\"], [0.6666666666666666, \"#ed7953\"], [0.7777777777777778, \"#fb9f3a\"], [0.8888888888888888, \"#fdca26\"], [1.0, \"#f0f921\"]], \"type\": \"surface\"}], \"table\": [{\"cells\": {\"fill\": {\"color\": \"#EBF0F8\"}, \"line\": {\"color\": \"white\"}}, \"header\": {\"fill\": {\"color\": \"#C8D4E3\"}, \"line\": {\"color\": \"white\"}}, \"type\": \"table\"}]}, \"layout\": {\"annotationdefaults\": {\"arrowcolor\": \"#2a3f5f\", \"arrowhead\": 0, \"arrowwidth\": 1}, \"autotypenumbers\": \"strict\", \"coloraxis\": {\"colorbar\": {\"outlinewidth\": 0, \"ticks\": \"\"}}, \"colorscale\": {\"diverging\": [[0, \"#8e0152\"], [0.1, \"#c51b7d\"], [0.2, \"#de77ae\"], [0.3, \"#f1b6da\"], [0.4, \"#fde0ef\"], [0.5, \"#f7f7f7\"], [0.6, \"#e6f5d0\"], [0.7, \"#b8e186\"], [0.8, \"#7fbc41\"], [0.9, \"#4d9221\"], [1, \"#276419\"]], \"sequential\": [[0.0, \"#0d0887\"], [0.1111111111111111, \"#46039f\"], [0.2222222222222222, \"#7201a8\"], [0.3333333333333333, \"#9c179e\"], [0.4444444444444444, \"#bd3786\"], [0.5555555555555556, \"#d8576b\"], [0.6666666666666666, \"#ed7953\"], [0.7777777777777778, \"#fb9f3a\"], [0.8888888888888888, \"#fdca26\"], [1.0, \"#f0f921\"]], \"sequentialminus\": [[0.0, \"#0d0887\"], [0.1111111111111111, \"#46039f\"], [0.2222222222222222, \"#7201a8\"], [0.3333333333333333, \"#9c179e\"], [0.4444444444444444, \"#bd3786\"], [0.5555555555555556, \"#d8576b\"], [0.6666666666666666, \"#ed7953\"], [0.7777777777777778, \"#fb9f3a\"], [0.8888888888888888, \"#fdca26\"], [1.0, \"#f0f921\"]]}, \"colorway\": [\"#636efa\", \"#EF553B\", \"#00cc96\", \"#ab63fa\", \"#FFA15A\", \"#19d3f3\", \"#FF6692\", \"#B6E880\", \"#FF97FF\", \"#FECB52\"], \"font\": {\"color\": \"#2a3f5f\"}, \"geo\": {\"bgcolor\": \"white\", \"lakecolor\": \"white\", \"landcolor\": \"#E5ECF6\", \"showlakes\": true, \"showland\": true, \"subunitcolor\": \"white\"}, \"hoverlabel\": {\"align\": \"left\"}, \"hovermode\": \"closest\", \"mapbox\": {\"style\": \"light\"}, \"paper_bgcolor\": \"white\", \"plot_bgcolor\": \"#E5ECF6\", \"polar\": {\"angularaxis\": {\"gridcolor\": \"white\", \"linecolor\": \"white\", \"ticks\": \"\"}, \"bgcolor\": \"#E5ECF6\", \"radialaxis\": {\"gridcolor\": \"white\", \"linecolor\": \"white\", \"ticks\": \"\"}}, \"scene\": {\"xaxis\": {\"backgroundcolor\": \"#E5ECF6\", \"gridcolor\": \"white\", \"gridwidth\": 2, \"linecolor\": \"white\", \"showbackground\": true, \"ticks\": \"\", \"zerolinecolor\": \"white\"}, \"yaxis\": {\"backgroundcolor\": \"#E5ECF6\", \"gridcolor\": \"white\", \"gridwidth\": 2, \"linecolor\": \"white\", \"showbackground\": true, \"ticks\": \"\", \"zerolinecolor\": \"white\"}, \"zaxis\": {\"backgroundcolor\": \"#E5ECF6\", \"gridcolor\": \"white\", \"gridwidth\": 2, \"linecolor\": \"white\", \"showbackground\": true, \"ticks\": \"\", \"zerolinecolor\": \"white\"}}, \"shapedefaults\": {\"line\": {\"color\": \"#2a3f5f\"}}, \"ternary\": {\"aaxis\": {\"gridcolor\": \"white\", \"linecolor\": \"white\", \"ticks\": \"\"}, \"baxis\": {\"gridcolor\": \"white\", \"linecolor\": \"white\", \"ticks\": \"\"}, \"bgcolor\": \"#E5ECF6\", \"caxis\": {\"gridcolor\": \"white\", \"linecolor\": \"white\", \"ticks\": \"\"}}, \"title\": {\"x\": 0.05}, \"xaxis\": {\"automargin\": true, \"gridcolor\": \"white\", \"linecolor\": \"white\", \"ticks\": \"\", \"title\": {\"standoff\": 15}, \"zerolinecolor\": \"white\", \"zerolinewidth\": 2}, \"yaxis\": {\"automargin\": true, \"gridcolor\": \"white\", \"linecolor\": \"white\", \"ticks\": \"\", \"title\": {\"standoff\": 15}, \"zerolinecolor\": \"white\", \"zerolinewidth\": 2}}}, \"title\": {\"text\": \"Top 10 Start-Up States\", \"x\": 0.5}, \"xaxis\": {\"anchor\": \"y\", \"domain\": [0.0, 1.0], \"title\": {\"text\": \"Number of Start-Ups per State\"}}, \"yaxis\": {\"anchor\": \"x\", \"domain\": [0.0, 1.0], \"title\": {\"text\": \"States\"}}},                        {\"responsive\": true}                    ).then(function(){\n",
       "                            \n",
       "var gd = document.getElementById('43180f6c-4aab-4021-b23e-133d509d0cd5');\n",
       "var x = new MutationObserver(function (mutations, observer) {{\n",
       "        var display = window.getComputedStyle(gd).display;\n",
       "        if (!display || display === 'none') {{\n",
       "            console.log([gd, 'removed!']);\n",
       "            Plotly.purge(gd);\n",
       "            observer.disconnect();\n",
       "        }}\n",
       "}});\n",
       "\n",
       "// Listen for the removal of the full notebook cells\n",
       "var notebookContainer = gd.closest('#notebook-container');\n",
       "if (notebookContainer) {{\n",
       "    x.observe(notebookContainer, {childList: true});\n",
       "}}\n",
       "\n",
       "// Listen for the clearing of the current output cell\n",
       "var outputEl = gd.closest('.output');\n",
       "if (outputEl) {{\n",
       "    x.observe(outputEl, {childList: true});\n",
       "}}\n",
       "\n",
       "                        })                };                });            </script>        </div>"
      ]
     },
     "metadata": {},
     "output_type": "display_data"
    }
   ],
   "source": [
    "fig = px.bar(top_ten_states, x='category_list')\n",
    "\n",
    "fig.update_layout(\n",
    "    xaxis_title_text='Number of Start-Ups per State',\n",
    "    yaxis_title_text='States',\n",
    "    bargap=0.2, showlegend=True,\n",
    "    title_text='Top 10 Start-Up States',\n",
    "    title_x=0.5,\n",
    ")\n",
    "# fig.write_image(\"../images/top_states.png\")\n",
    "fig.show();"
   ]
  },
  {
   "cell_type": "markdown",
   "metadata": {},
   "source": [
    "##### Top 10 Regions"
   ]
  },
  {
   "cell_type": "code",
   "execution_count": null,
   "metadata": {},
   "outputs": [],
   "source": [
    "top_ten_regions = df.groupby('region').count().sort_values(by='category_list', ascending=False).iloc[:10, 0:2]\n",
    "top_ten_regions"
   ]
  },
  {
   "cell_type": "code",
   "execution_count": null,
   "metadata": {},
   "outputs": [],
   "source": [
    "fig = px.bar(top_ten_regions, x='category_list')\n",
    "\n",
    "fig.update_layout(\n",
    "    xaxis_title_text='Number of Start-Ups per Region',\n",
    "    yaxis_title_text='Regions',\n",
    "    bargap=0.2, showlegend=True,\n",
    "    title_text='Top 10 Start-Up Regions',\n",
    "    title_x=0.5,\n",
    ")\n",
    "# fig.write_image(\"../images/top_regions.png\")\n",
    "fig.show();"
   ]
  },
  {
   "cell_type": "code",
   "execution_count": null,
   "metadata": {},
   "outputs": [],
   "source": [
    "df.status = df.status.map({0: 0, 1: 1, 2: 1, 3: 1})"
   ]
  },
  {
   "cell_type": "code",
   "execution_count": null,
   "metadata": {},
   "outputs": [],
   "source": [
    "successful_regions = df.groupby('region').mean().ratio_success_by_region.sort_values(ascending=False)\n",
    "# successful_regions = successful_regions[successful_regions != 1][:10]\n",
    "\n",
    "# unsuccessful_regions = df.groupby('region').mean().ratio_fail_by_region.sort_values(ascending=False)\n",
    "# unsuccessful_regions = unsuccessful_regions[(unsuccessful_regions != 0) & (unsuccessful_regions != .5)][:10]\n",
    "# unsuccessful_regions"
   ]
  },
  {
   "cell_type": "code",
   "execution_count": null,
   "metadata": {},
   "outputs": [],
   "source": [
    "successful_cats = df[df.status==1].category_list.value_counts()\n",
    "successful_cats= successful_cats[:10]"
   ]
  },
  {
   "cell_type": "code",
   "execution_count": null,
   "metadata": {},
   "outputs": [],
   "source": [
    "unsuccessful_cats = df[df.status==0].category_list.value_counts()\n",
    "unsuccessful_cats = unsuccessful_cats[:10]"
   ]
  },
  {
   "cell_type": "code",
   "execution_count": null,
   "metadata": {},
   "outputs": [],
   "source": [
    "fig = px.bar(successful_cats, x='category_list')\n",
    "\n",
    "fig.update_layout(\n",
    "    xaxis_title_text='Count of Successful Categories',\n",
    "    yaxis_title_text='Sectors',\n",
    "    bargap=0.2, showlegend=True,\n",
    "    title_text='Top 10 Most Successful Categories',\n",
    "    title_x=0.5,\n",
    ")\n",
    "fig.write_image(\"../images/top_successful_cats.png\")\n",
    "fig.show();"
   ]
  },
  {
   "cell_type": "code",
   "execution_count": null,
   "metadata": {},
   "outputs": [],
   "source": [
    "fig = px.bar(unsuccessful_cats, x='category_list')\n",
    "\n",
    "fig.update_layout(\n",
    "    xaxis_title_text='Count of Unsuccessful Categories',\n",
    "    yaxis_title_text='Sectors',\n",
    "    bargap=0.2, showlegend=True,\n",
    "    title_text='Top 10 Least Successful Categories',\n",
    "    title_x=0.5,\n",
    ")\n",
    "fig.write_image(\"../images/top_unsuccessful_cats.png\")\n",
    "fig.show();"
   ]
  },
  {
   "cell_type": "code",
   "execution_count": null,
   "metadata": {},
   "outputs": [],
   "source": [
    "fig = px.bar(successful_regions, x='ratio_success_by_region')\n",
    "\n",
    "fig.update_layout(\n",
    "    xaxis_title_text='% Successful Companies per Region',\n",
    "    yaxis_title_text='Regions',\n",
    "    bargap=0.2, showlegend=True,\n",
    "    title_text='Top 10 Most Successful Regions',\n",
    "    title_x=0.5,\n",
    ")\n",
    "fig.write_image(\"../images/top_successful_regions.png\")\n",
    "fig.show();"
   ]
  },
  {
   "cell_type": "code",
   "execution_count": null,
   "metadata": {},
   "outputs": [],
   "source": [
    "fig = px.bar(unsuccessful_regions, x='ratio_fail_by_region')\n",
    "\n",
    "fig.update_layout(\n",
    "    xaxis_title_text='% Unsuccessful Companies per Region',\n",
    "    yaxis_title_text='Regions',\n",
    "    bargap=0.2, showlegend=True,\n",
    "    title_text='Top 10 Least Successful Regions',\n",
    "    title_x=0.5,\n",
    ")\n",
    "fig.write_image(\"../images/top_least_successful_regions.png\")\n",
    "fig.show();"
   ]
  },
  {
   "cell_type": "markdown",
   "metadata": {},
   "source": [
    "#### What makes these regions successful or unsuccessful?"
   ]
  },
  {
   "cell_type": "code",
   "execution_count": null,
   "metadata": {},
   "outputs": [],
   "source": [
    "ur = unsuccessful_regions.index.tolist()\n",
    "sr = successful_regions.index.tolist()\n",
    "\n",
    "ur_mask = df['region'].isin(ur)\n",
    "sr_mask = df['region'].isin(sr)\n",
    "unsuccessful_df = df[ur_mask]\n",
    "successful_df = df[sr_mask]"
   ]
  },
  {
   "cell_type": "code",
   "execution_count": null,
   "metadata": {},
   "outputs": [],
   "source": [
    "ur_group = unsuccessful_df.groupby('region').mean()\n",
    "sr_group = successful_df.groupby('region').mean()"
   ]
  },
  {
   "cell_type": "code",
   "execution_count": null,
   "metadata": {},
   "outputs": [],
   "source": [
    "plot_regions(target='region_count', ur_df=ur_group, sr_df=sr_group, title_text='Successful vs Unsuccessful Regions', filename='suc_unsuc_by_region_count')"
   ]
  },
  {
   "cell_type": "code",
   "execution_count": null,
   "metadata": {},
   "outputs": [],
   "source": [
    "fig = plot_regions(target='funding_per_region_avg',\n",
    "             ur_df=ur_group, sr_df=sr_group,\n",
    "             title_text='Successful vs Unsuccessful Average Funding',\n",
    "             filename='suc_unsuc_avg_funding')\n",
    "fig"
   ]
  },
  {
   "cell_type": "code",
   "execution_count": null,
   "metadata": {},
   "outputs": [],
   "source": [
    "\n",
    "fig = plot_regions(target='pop_per_city',\n",
    "             ur_df=ur_group, sr_df=sr_group,\n",
    "             title_text='Successful vs Unsuccessful Average Population',\n",
    "             filename='suc_unsuc_avg_pop')\n",
    "fig"
   ]
  },
  {
   "cell_type": "code",
   "execution_count": null,
   "metadata": {},
   "outputs": [],
   "source": [
    "\n",
    "fig = plot_regions(target='pop_density_per_city',\n",
    "             ur_df=ur_group, sr_df=sr_group,\n",
    "             title_text='Successful vs Unsuccessful Average Population Density',\n",
    "             filename='suc_unsuc_avg_pop_density')\n",
    "fig"
   ]
  },
  {
   "cell_type": "code",
   "execution_count": null,
   "metadata": {},
   "outputs": [],
   "source": [
    "\n",
    "fig = plot_regions(target='num_top_univ_per_city',\n",
    "             ur_df=ur_group, sr_df=sr_group,\n",
    "             title_text='Successful vs Unsuccessful Number of Top Universities in Region',\n",
    "             filename='suc_unsuc_avg_top_univ')\n",
    "fig"
   ]
  },
  {
   "cell_type": "code",
   "execution_count": null,
   "metadata": {},
   "outputs": [],
   "source": [
    "\n",
    "fig = plot_regions(target='city_count',\n",
    "             ur_df=ur_group, sr_df=sr_group,\n",
    "             title_text='Number of Startups in City',\n",
    "             filename='num_of_startups')\n",
    "fig"
   ]
  },
  {
   "cell_type": "markdown",
   "metadata": {},
   "source": [
    "##### Top 10 Funded Regions"
   ]
  },
  {
   "cell_type": "code",
   "execution_count": null,
   "metadata": {},
   "outputs": [],
   "source": [
    "top_ten_funding_regions = df.groupby('region').mean().sort_values(by='funding_per_region_avg', ascending=False).iloc[0:10, :]"
   ]
  },
  {
   "cell_type": "code",
   "execution_count": null,
   "metadata": {},
   "outputs": [],
   "source": [
    "fig = px.bar(top_ten_funding_regions, x='funding_per_region_avg')\n",
    "\n",
    "fig.update_layout(\n",
    "    xaxis_title_text='Median Investment',\n",
    "    yaxis_title_text='Regions',\n",
    "    bargap=0.2, showlegend=True,\n",
    "    title_text='Top 10 Start-Up Regions By Funding',\n",
    "    title_x=0.5,\n",
    ")\n",
    "# fig.write_image(\"../images/top_funding_regions.png\")\n",
    "fig.show();"
   ]
  },
  {
   "cell_type": "markdown",
   "metadata": {},
   "source": [
    "#####  Average Funding"
   ]
  },
  {
   "cell_type": "code",
   "execution_count": null,
   "metadata": {},
   "outputs": [],
   "source": [
    "df.status = df.status.map({0: 'defunct', 1: 'active', 2: 'aquired', 3: 'ipo'})\n",
    "status_series = df.groupby('status').median().average_funding"
   ]
  },
  {
   "cell_type": "code",
   "execution_count": null,
   "metadata": {},
   "outputs": [],
   "source": [
    "status_series"
   ]
  },
  {
   "cell_type": "code",
   "execution_count": null,
   "metadata": {},
   "outputs": [],
   "source": [
    "fig = px.bar(status_series, x=status_series.index, y='average_funding')\n",
    "fig.update_layout(\n",
    "    xaxis_title_text='Company Status',\n",
    "    yaxis_title_text='Average Funding',\n",
    "    bargap=0.2, showlegend=True,\n",
    "    title_text='Average Funding per Company Status',\n",
    "    title_x=0.5,\n",
    ")\n",
    "# fig.write_image(\"../images/average_funding.png\")\n",
    "fig.show()"
   ]
  },
  {
   "cell_type": "code",
   "execution_count": null,
   "metadata": {},
   "outputs": [],
   "source": [
    "unique_industry_series = df.groupby('status').median().unique_industry_count_in_city\n",
    "unique_industry_series"
   ]
  },
  {
   "cell_type": "code",
   "execution_count": null,
   "metadata": {},
   "outputs": [],
   "source": [
    "fig = px.bar(unique_industry_series, x=unique_industry_series.index, y='unique_industry_count_in_city')\n",
    "fig.update_layout(\n",
    "    xaxis_title_text='Company Status',\n",
    "    yaxis_title_text='Median Count of Unique Industries',\n",
    "    bargap=0.2, showlegend=True,\n",
    "    title_text='Median Unique Industries In City',\n",
    "    title_x=0.5,\n",
    ")\n",
    "# fig.write_image(\"../images/average_funding.png\")\n",
    "fig.show()"
   ]
  },
  {
   "cell_type": "code",
   "execution_count": null,
   "metadata": {},
   "outputs": [],
   "source": [
    "first_last_funding = df.groupby('status').median().first_last_funding"
   ]
  },
  {
   "cell_type": "code",
   "execution_count": null,
   "metadata": {},
   "outputs": [],
   "source": [
    "fig = px.bar(first_last_funding, x=first_last_funding.index, y='first_last_funding')\n",
    "fig.update_layout(\n",
    "    xaxis_title_text='Company Status',\n",
    "    yaxis_title_text='Median Time Between First and Last Funding',\n",
    "    bargap=0.2, showlegend=True,\n",
    "    title_text='Median Time Between First and Last Funding Periods',\n",
    "    title_x=0.5,\n",
    ")\n",
    "# fig.write_image(\"../images/average_funding.png\")\n",
    "fig.show()"
   ]
  },
  {
   "cell_type": "code",
   "execution_count": null,
   "metadata": {},
   "outputs": [],
   "source": [
    "df_1 = df[(df.status == 'defunct') | (df.status =='active')]\n",
    "df_1['status'] = df_1.status.map({'active': 1, 'defunct': 0})"
   ]
  },
  {
   "cell_type": "code",
   "execution_count": null,
   "metadata": {},
   "outputs": [],
   "source": [
    "\n",
    "fig = px.density_mapbox(df_1, lat='lat', lon='long', z='status', radius=1.5,\n",
    "                        center=dict(lat=38, lon=-100), zoom=3,\n",
    "                        mapbox_style=\"stamen-terrain\")\n",
    "fig.show()"
   ]
  },
  {
   "cell_type": "code",
   "execution_count": null,
   "metadata": {},
   "outputs": [],
   "source": []
  },
  {
   "cell_type": "code",
   "execution_count": null,
   "metadata": {},
   "outputs": [],
   "source": [
    "quick_test = df"
   ]
  },
  {
   "cell_type": "code",
   "execution_count": null,
   "metadata": {},
   "outputs": [],
   "source": [
    "quick_test = quick_test[(quick_test.status == 'operating') | (quick_test.status == 'acquired')]"
   ]
  },
  {
   "cell_type": "code",
   "execution_count": null,
   "metadata": {},
   "outputs": [],
   "source": [
    "import imblearn"
   ]
  },
  {
   "cell_type": "code",
   "execution_count": null,
   "metadata": {},
   "outputs": [],
   "source": [
    "y = quick_test.status\n",
    "X = quick_test[['average_funding', 'len_of_company_name', 'len_of_company_url', 'num_of_company_cat', 'first_last_funding']]"
   ]
  },
  {
   "cell_type": "code",
   "execution_count": null,
   "metadata": {},
   "outputs": [],
   "source": [
    "from imblearn.over_sampling import SMOTE\n",
    "oversample = SMOTE()\n",
    "X, y = oversample.fit_resample(X, y)"
   ]
  },
  {
   "cell_type": "code",
   "execution_count": null,
   "metadata": {},
   "outputs": [],
   "source": [
    "X_train, X_test, y_train, y_test = train_test_split(X, y, test_size=0.33, random_state=42)"
   ]
  },
  {
   "cell_type": "code",
   "execution_count": null,
   "metadata": {},
   "outputs": [],
   "source": [
    "dummy_clf = DummyClassifier(strategy=\"most_frequent\")\n",
    "dummy_clf.fit(X, y)\n",
    "dum_pred = dummy_clf.predict(X)"
   ]
  },
  {
   "cell_type": "code",
   "execution_count": null,
   "metadata": {},
   "outputs": [],
   "source": [
    "pd.crosstab(y, dum_pred, rownames=['True'], colnames=['Predicted'], margins=True)"
   ]
  },
  {
   "cell_type": "code",
   "execution_count": null,
   "metadata": {},
   "outputs": [],
   "source": []
  },
  {
   "cell_type": "code",
   "execution_count": null,
   "metadata": {},
   "outputs": [],
   "source": [
    "df.head()"
   ]
  },
  {
   "cell_type": "markdown",
   "metadata": {},
   "source": [
    "#### Looking at SF Bay Area"
   ]
  },
  {
   "cell_type": "code",
   "execution_count": null,
   "metadata": {},
   "outputs": [],
   "source": [
    "sf_df = df[df.region == 'SF Bay Area']\n",
    "sf_df.status = sf_df.status.map({0: 0, 1: 1, 2: 1, 3: 1})"
   ]
  },
  {
   "cell_type": "code",
   "execution_count": null,
   "metadata": {},
   "outputs": [],
   "source": [
    "fig = px.density_mapbox(sf_df, lat='lat', lon='long', z='status', radius=5,\n",
    "                        center=dict(lat=37.7, lon=-122), zoom=7,\n",
    "                        mapbox_style=\"stamen-terrain\")\n",
    "fig.update_layout(\n",
    "        bargap=0.2, showlegend=True,\n",
    "        title_text='Bay Area Heatmap',\n",
    "        title_x=0.5,\n",
    "    )\n",
    "# fig.write_image(f\"../images/bay_area_heatmap.png\")\n",
    "fig.show()"
   ]
  },
  {
   "cell_type": "code",
   "execution_count": null,
   "metadata": {},
   "outputs": [],
   "source": [
    "sf_df_mean = sf_df.groupby('status').mean()"
   ]
  },
  {
   "cell_type": "code",
   "execution_count": null,
   "metadata": {},
   "outputs": [],
   "source": [
    "def plot_suc_fail(group_frame, y, x_name, title, filename):\n",
    "    fig = px.bar(sf_df_mean, x=sf_df_mean.index, y=y)\n",
    "    fig.update_layout(\n",
    "        xaxis_title_text='Company Status',\n",
    "        yaxis_title_text=x_name,\n",
    "        bargap=0.2, showlegend=True,\n",
    "        title_text=title,\n",
    "        title_x=0.5,\n",
    "    )\n",
    "#     fig.write_image(f\"../images/{filename}.png\")\n",
    "    return fig"
   ]
  },
  {
   "cell_type": "code",
   "execution_count": null,
   "metadata": {},
   "outputs": [],
   "source": [
    "plot_suc_fail(sf_df_mean, y='average_funding', x_name='Average Funding',\n",
    "              title='Average Funding Per Company in Bay Area',\n",
    "             filename='average_funding')"
   ]
  },
  {
   "cell_type": "code",
   "execution_count": null,
   "metadata": {},
   "outputs": [],
   "source": [
    "plot_suc_fail(sf_df_mean, y='city_count', x_name='Number of Startups in Cities',\n",
    "              title='Number of Startups per City in Bay Area',\n",
    "             filename='num_city_sf_bay')"
   ]
  },
  {
   "cell_type": "code",
   "execution_count": null,
   "metadata": {},
   "outputs": [],
   "source": [
    "plot_suc_fail(sf_df_mean, y='pop_density_per_city', x_name='Population Density per City',\n",
    "              title='Population Density per City in Bay Area',\n",
    "             filename='pop_density_sf_bay')"
   ]
  },
  {
   "cell_type": "code",
   "execution_count": null,
   "metadata": {},
   "outputs": [],
   "source": [
    "plot_suc_fail(sf_df_mean, y='num_of_company_cat', x_name='Population Density per City',\n",
    "              title='Average Number of Subcategories per Company in Bay Area',\n",
    "             filename='pop_density_sf_bay')"
   ]
  },
  {
   "cell_type": "code",
   "execution_count": null,
   "metadata": {},
   "outputs": [],
   "source": [
    "sf_df_count = sf_df.groupby('city').count().sort_values(by='status', ascending=False).iloc[:10, :]\n",
    "top_city_count = sf_df_count.index.tolist()\n",
    "top_city_count\n",
    "\n",
    "top_10_bay = sf_df[sf_df['city'].isin(top_city_count)]\n",
    "top_10_bay_mean = top_10_bay.groupby('city').mean()\n",
    "top_10_bay_mean\n",
    "# top_10_bay_med = top_10_bay.groupby(['city']).median()\n",
    "# top_10_bay_med\n"
   ]
  },
  {
   "cell_type": "code",
   "execution_count": null,
   "metadata": {},
   "outputs": [],
   "source": [
    "fig = px.bar(top_10_bay_mean, x=top_10_bay_mean.index, y='average_funding', color='status')\n",
    "fig.update_layout(\n",
    "    xaxis_title_text='City Name',\n",
    "    yaxis_title_text='Mean Funding Per City',\n",
    "    bargap=0.2, showlegend=True,\n",
    "    title_text='Mean Funding Per City and Success Rates',\n",
    "    title_x=0.5\n",
    ")\n",
    "# fig.write_image(f\"../images/average_funding_per_city.png\")\n",
    "fig"
   ]
  },
  {
   "cell_type": "code",
   "execution_count": null,
   "metadata": {},
   "outputs": [],
   "source": [
    "fig = px.bar(top_10_bay_mean, x=top_10_bay_mean.index, y='city_count', color='status')\n",
    "fig.update_layout(\n",
    "    xaxis_title_text='City Name',\n",
    "    yaxis_title_text='Number of Startups',\n",
    "    bargap=0.2, showlegend=True,\n",
    "    title_text='Number of Startups Per City',\n",
    "    title_x=0.5\n",
    ")\n",
    "# fig.write_image(f\"../images/number_of_startups.png\")\n",
    "fig"
   ]
  },
  {
   "cell_type": "code",
   "execution_count": null,
   "metadata": {},
   "outputs": [],
   "source": [
    "fig = px.bar(top_10_bay_mean, x=top_10_bay_mean.index, y='pop_density_per_city', color='status')\n",
    "fig.update_layout(\n",
    "    xaxis_title_text='City Name',\n",
    "    yaxis_title_text='Population Density',\n",
    "    bargap=0.2, showlegend=True,\n",
    "    title_text='Population Density and Success Rates Per City',\n",
    "    title_x=0.5\n",
    ")\n",
    "# fig.write_image(f\"../images/population_density.png\")\n",
    "fig"
   ]
  },
  {
   "cell_type": "code",
   "execution_count": null,
   "metadata": {},
   "outputs": [],
   "source": [
    "\n",
    "fig = px.bar(top_10_bay_mean, x=top_10_bay_mean.index, y='num_of_company_cat', color='status')\n",
    "fig.update_layout(\n",
    "    xaxis_title_text='City Name',\n",
    "    yaxis_title_text='Average number of Categories',\n",
    "    bargap=0.2, showlegend=True,\n",
    "    title_text='verage number of Categories Per Startup Per City',\n",
    "    title_x=0.5\n",
    ")\n",
    "# fig.write_image(f\"../images/population_density.png\")\n",
    "fig"
   ]
  },
  {
   "cell_type": "code",
   "execution_count": null,
   "metadata": {},
   "outputs": [],
   "source": [
    "tucson = df[df.region == 'Tucson'].category_list.value_counts()[:10]\n",
    "tucson"
   ]
  },
  {
   "cell_type": "code",
   "execution_count": null,
   "metadata": {},
   "outputs": [],
   "source": [
    "fig = px.bar(tucson, x='category_list')\n",
    "\n",
    "fig.update_layout(\n",
    "    xaxis_title_text='Number of Categories in Tucson',\n",
    "    yaxis_title_text='Company Categories',\n",
    "    bargap=0.2, showlegend=True,\n",
    "    title_text='Top 10 Companies in Tucson',\n",
    "    title_x=0.5,\n",
    ")\n",
    "# fig.write_image(\"../images/tucson_cat.png\")\n",
    "fig.show();"
   ]
  },
  {
   "cell_type": "code",
   "execution_count": null,
   "metadata": {},
   "outputs": [],
   "source": [
    "plot_regions(target='region_count', ur_df=ur_group, sr_df=sr_group, title_text='Successful vs Unsuccessful Regions', filename='suc_unsuc_by_region_count')"
   ]
  },
  {
   "cell_type": "code",
   "execution_count": 17,
   "metadata": {},
   "outputs": [],
   "source": [
    "df.status = df.status.map({0: 'failed', 1: 'succeed', 2: 'succeed', 3: 'succeed'})"
   ]
  },
  {
   "cell_type": "code",
   "execution_count": 18,
   "metadata": {},
   "outputs": [],
   "source": [
    "stat_group = df.groupby('status').count()"
   ]
  },
  {
   "cell_type": "code",
   "execution_count": 22,
   "metadata": {},
   "outputs": [
    {
     "data": {
      "text/plain": [
       "category_list                         37493\n",
       "funding_total_usd                     37493\n",
       "state_code                            37493\n",
       "region                                37493\n",
       "city                                  37493\n",
       "funding_rounds                        37493\n",
       "founded_at                            30526\n",
       "first_funding_at                      37479\n",
       "last_funding_at                       37493\n",
       "average_funding                       37493\n",
       "len_of_company_name                   37493\n",
       "len_of_company_url                    37493\n",
       "num_of_company_cat                    37493\n",
       "first_last_funding                    37493\n",
       "region_count                          37493\n",
       "funding_total_per_region              37493\n",
       "funding_per_region_avg                37493\n",
       "first_funding_total_per_region        37493\n",
       "avg_first_funding_per_region          37493\n",
       "state_code_count                      37493\n",
       "city_count                            37493\n",
       "funding_total_per_state_code          37493\n",
       "funding_per_state_code_avg            37493\n",
       "first_funding_total_per_state_code    37493\n",
       "avg_first_funding_per_state_code      37493\n",
       "unique_industry_count_in_city         37493\n",
       "unique_industry_names_in_city         37493\n",
       "percent_gdp_by_state                  37493\n",
       "total_gdp_by_state                    37493\n",
       "population_by_state                   37493\n",
       "pop_per_city                          37493\n",
       "pop_density_per_city                  37493\n",
       "zip                                   37493\n",
       "lat                                   37493\n",
       "long                                  37493\n",
       "num_top_univ_per_city                 37493\n",
       "top_univ_in_city                      37493\n",
       "num_top_univ_per_state                37493\n",
       "success_count_by_region               37493\n",
       "fail_count_by_region                  37493\n",
       "total_company_count                   37493\n",
       "ratio_success_by_region               37493\n",
       "ratio_fail_by_region                  37493\n",
       "dtype: int64"
      ]
     },
     "execution_count": 22,
     "metadata": {},
     "output_type": "execute_result"
    }
   ],
   "source": [
    "stat_group.sum()"
   ]
  },
  {
   "cell_type": "code",
   "execution_count": 21,
   "metadata": {},
   "outputs": [
    {
     "data": {
      "application/vnd.plotly.v1+json": {
       "config": {
        "plotlyServerURL": "https://plot.ly"
       },
       "data": [
        {
         "alignmentgroup": "True",
         "hovertemplate": "category_list=%{x}<br>status=%{y}<extra></extra>",
         "legendgroup": "",
         "marker": {
          "color": "#636efa"
         },
         "name": "",
         "offsetgroup": "",
         "orientation": "h",
         "showlegend": false,
         "textposition": "auto",
         "type": "bar",
         "x": [
          2897,
          34596
         ],
         "xaxis": "x",
         "y": [
          "failed",
          "succeed"
         ],
         "yaxis": "y"
        }
       ],
       "layout": {
        "autosize": true,
        "bargap": 0.2,
        "barmode": "relative",
        "legend": {
         "tracegroupgap": 0
        },
        "margin": {
         "t": 60
        },
        "showlegend": true,
        "template": {
         "data": {
          "bar": [
           {
            "error_x": {
             "color": "#2a3f5f"
            },
            "error_y": {
             "color": "#2a3f5f"
            },
            "marker": {
             "line": {
              "color": "#E5ECF6",
              "width": 0.5
             }
            },
            "type": "bar"
           }
          ],
          "barpolar": [
           {
            "marker": {
             "line": {
              "color": "#E5ECF6",
              "width": 0.5
             }
            },
            "type": "barpolar"
           }
          ],
          "carpet": [
           {
            "aaxis": {
             "endlinecolor": "#2a3f5f",
             "gridcolor": "white",
             "linecolor": "white",
             "minorgridcolor": "white",
             "startlinecolor": "#2a3f5f"
            },
            "baxis": {
             "endlinecolor": "#2a3f5f",
             "gridcolor": "white",
             "linecolor": "white",
             "minorgridcolor": "white",
             "startlinecolor": "#2a3f5f"
            },
            "type": "carpet"
           }
          ],
          "choropleth": [
           {
            "colorbar": {
             "outlinewidth": 0,
             "ticks": ""
            },
            "type": "choropleth"
           }
          ],
          "contour": [
           {
            "colorbar": {
             "outlinewidth": 0,
             "ticks": ""
            },
            "colorscale": [
             [
              0,
              "#0d0887"
             ],
             [
              0.1111111111111111,
              "#46039f"
             ],
             [
              0.2222222222222222,
              "#7201a8"
             ],
             [
              0.3333333333333333,
              "#9c179e"
             ],
             [
              0.4444444444444444,
              "#bd3786"
             ],
             [
              0.5555555555555556,
              "#d8576b"
             ],
             [
              0.6666666666666666,
              "#ed7953"
             ],
             [
              0.7777777777777778,
              "#fb9f3a"
             ],
             [
              0.8888888888888888,
              "#fdca26"
             ],
             [
              1,
              "#f0f921"
             ]
            ],
            "type": "contour"
           }
          ],
          "contourcarpet": [
           {
            "colorbar": {
             "outlinewidth": 0,
             "ticks": ""
            },
            "type": "contourcarpet"
           }
          ],
          "heatmap": [
           {
            "colorbar": {
             "outlinewidth": 0,
             "ticks": ""
            },
            "colorscale": [
             [
              0,
              "#0d0887"
             ],
             [
              0.1111111111111111,
              "#46039f"
             ],
             [
              0.2222222222222222,
              "#7201a8"
             ],
             [
              0.3333333333333333,
              "#9c179e"
             ],
             [
              0.4444444444444444,
              "#bd3786"
             ],
             [
              0.5555555555555556,
              "#d8576b"
             ],
             [
              0.6666666666666666,
              "#ed7953"
             ],
             [
              0.7777777777777778,
              "#fb9f3a"
             ],
             [
              0.8888888888888888,
              "#fdca26"
             ],
             [
              1,
              "#f0f921"
             ]
            ],
            "type": "heatmap"
           }
          ],
          "heatmapgl": [
           {
            "colorbar": {
             "outlinewidth": 0,
             "ticks": ""
            },
            "colorscale": [
             [
              0,
              "#0d0887"
             ],
             [
              0.1111111111111111,
              "#46039f"
             ],
             [
              0.2222222222222222,
              "#7201a8"
             ],
             [
              0.3333333333333333,
              "#9c179e"
             ],
             [
              0.4444444444444444,
              "#bd3786"
             ],
             [
              0.5555555555555556,
              "#d8576b"
             ],
             [
              0.6666666666666666,
              "#ed7953"
             ],
             [
              0.7777777777777778,
              "#fb9f3a"
             ],
             [
              0.8888888888888888,
              "#fdca26"
             ],
             [
              1,
              "#f0f921"
             ]
            ],
            "type": "heatmapgl"
           }
          ],
          "histogram": [
           {
            "marker": {
             "colorbar": {
              "outlinewidth": 0,
              "ticks": ""
             }
            },
            "type": "histogram"
           }
          ],
          "histogram2d": [
           {
            "colorbar": {
             "outlinewidth": 0,
             "ticks": ""
            },
            "colorscale": [
             [
              0,
              "#0d0887"
             ],
             [
              0.1111111111111111,
              "#46039f"
             ],
             [
              0.2222222222222222,
              "#7201a8"
             ],
             [
              0.3333333333333333,
              "#9c179e"
             ],
             [
              0.4444444444444444,
              "#bd3786"
             ],
             [
              0.5555555555555556,
              "#d8576b"
             ],
             [
              0.6666666666666666,
              "#ed7953"
             ],
             [
              0.7777777777777778,
              "#fb9f3a"
             ],
             [
              0.8888888888888888,
              "#fdca26"
             ],
             [
              1,
              "#f0f921"
             ]
            ],
            "type": "histogram2d"
           }
          ],
          "histogram2dcontour": [
           {
            "colorbar": {
             "outlinewidth": 0,
             "ticks": ""
            },
            "colorscale": [
             [
              0,
              "#0d0887"
             ],
             [
              0.1111111111111111,
              "#46039f"
             ],
             [
              0.2222222222222222,
              "#7201a8"
             ],
             [
              0.3333333333333333,
              "#9c179e"
             ],
             [
              0.4444444444444444,
              "#bd3786"
             ],
             [
              0.5555555555555556,
              "#d8576b"
             ],
             [
              0.6666666666666666,
              "#ed7953"
             ],
             [
              0.7777777777777778,
              "#fb9f3a"
             ],
             [
              0.8888888888888888,
              "#fdca26"
             ],
             [
              1,
              "#f0f921"
             ]
            ],
            "type": "histogram2dcontour"
           }
          ],
          "mesh3d": [
           {
            "colorbar": {
             "outlinewidth": 0,
             "ticks": ""
            },
            "type": "mesh3d"
           }
          ],
          "parcoords": [
           {
            "line": {
             "colorbar": {
              "outlinewidth": 0,
              "ticks": ""
             }
            },
            "type": "parcoords"
           }
          ],
          "pie": [
           {
            "automargin": true,
            "type": "pie"
           }
          ],
          "scatter": [
           {
            "marker": {
             "colorbar": {
              "outlinewidth": 0,
              "ticks": ""
             }
            },
            "type": "scatter"
           }
          ],
          "scatter3d": [
           {
            "line": {
             "colorbar": {
              "outlinewidth": 0,
              "ticks": ""
             }
            },
            "marker": {
             "colorbar": {
              "outlinewidth": 0,
              "ticks": ""
             }
            },
            "type": "scatter3d"
           }
          ],
          "scattercarpet": [
           {
            "marker": {
             "colorbar": {
              "outlinewidth": 0,
              "ticks": ""
             }
            },
            "type": "scattercarpet"
           }
          ],
          "scattergeo": [
           {
            "marker": {
             "colorbar": {
              "outlinewidth": 0,
              "ticks": ""
             }
            },
            "type": "scattergeo"
           }
          ],
          "scattergl": [
           {
            "marker": {
             "colorbar": {
              "outlinewidth": 0,
              "ticks": ""
             }
            },
            "type": "scattergl"
           }
          ],
          "scattermapbox": [
           {
            "marker": {
             "colorbar": {
              "outlinewidth": 0,
              "ticks": ""
             }
            },
            "type": "scattermapbox"
           }
          ],
          "scatterpolar": [
           {
            "marker": {
             "colorbar": {
              "outlinewidth": 0,
              "ticks": ""
             }
            },
            "type": "scatterpolar"
           }
          ],
          "scatterpolargl": [
           {
            "marker": {
             "colorbar": {
              "outlinewidth": 0,
              "ticks": ""
             }
            },
            "type": "scatterpolargl"
           }
          ],
          "scatterternary": [
           {
            "marker": {
             "colorbar": {
              "outlinewidth": 0,
              "ticks": ""
             }
            },
            "type": "scatterternary"
           }
          ],
          "surface": [
           {
            "colorbar": {
             "outlinewidth": 0,
             "ticks": ""
            },
            "colorscale": [
             [
              0,
              "#0d0887"
             ],
             [
              0.1111111111111111,
              "#46039f"
             ],
             [
              0.2222222222222222,
              "#7201a8"
             ],
             [
              0.3333333333333333,
              "#9c179e"
             ],
             [
              0.4444444444444444,
              "#bd3786"
             ],
             [
              0.5555555555555556,
              "#d8576b"
             ],
             [
              0.6666666666666666,
              "#ed7953"
             ],
             [
              0.7777777777777778,
              "#fb9f3a"
             ],
             [
              0.8888888888888888,
              "#fdca26"
             ],
             [
              1,
              "#f0f921"
             ]
            ],
            "type": "surface"
           }
          ],
          "table": [
           {
            "cells": {
             "fill": {
              "color": "#EBF0F8"
             },
             "line": {
              "color": "white"
             }
            },
            "header": {
             "fill": {
              "color": "#C8D4E3"
             },
             "line": {
              "color": "white"
             }
            },
            "type": "table"
           }
          ]
         },
         "layout": {
          "annotationdefaults": {
           "arrowcolor": "#2a3f5f",
           "arrowhead": 0,
           "arrowwidth": 1
          },
          "autotypenumbers": "strict",
          "coloraxis": {
           "colorbar": {
            "outlinewidth": 0,
            "ticks": ""
           }
          },
          "colorscale": {
           "diverging": [
            [
             0,
             "#8e0152"
            ],
            [
             0.1,
             "#c51b7d"
            ],
            [
             0.2,
             "#de77ae"
            ],
            [
             0.3,
             "#f1b6da"
            ],
            [
             0.4,
             "#fde0ef"
            ],
            [
             0.5,
             "#f7f7f7"
            ],
            [
             0.6,
             "#e6f5d0"
            ],
            [
             0.7,
             "#b8e186"
            ],
            [
             0.8,
             "#7fbc41"
            ],
            [
             0.9,
             "#4d9221"
            ],
            [
             1,
             "#276419"
            ]
           ],
           "sequential": [
            [
             0,
             "#0d0887"
            ],
            [
             0.1111111111111111,
             "#46039f"
            ],
            [
             0.2222222222222222,
             "#7201a8"
            ],
            [
             0.3333333333333333,
             "#9c179e"
            ],
            [
             0.4444444444444444,
             "#bd3786"
            ],
            [
             0.5555555555555556,
             "#d8576b"
            ],
            [
             0.6666666666666666,
             "#ed7953"
            ],
            [
             0.7777777777777778,
             "#fb9f3a"
            ],
            [
             0.8888888888888888,
             "#fdca26"
            ],
            [
             1,
             "#f0f921"
            ]
           ],
           "sequentialminus": [
            [
             0,
             "#0d0887"
            ],
            [
             0.1111111111111111,
             "#46039f"
            ],
            [
             0.2222222222222222,
             "#7201a8"
            ],
            [
             0.3333333333333333,
             "#9c179e"
            ],
            [
             0.4444444444444444,
             "#bd3786"
            ],
            [
             0.5555555555555556,
             "#d8576b"
            ],
            [
             0.6666666666666666,
             "#ed7953"
            ],
            [
             0.7777777777777778,
             "#fb9f3a"
            ],
            [
             0.8888888888888888,
             "#fdca26"
            ],
            [
             1,
             "#f0f921"
            ]
           ]
          },
          "colorway": [
           "#636efa",
           "#EF553B",
           "#00cc96",
           "#ab63fa",
           "#FFA15A",
           "#19d3f3",
           "#FF6692",
           "#B6E880",
           "#FF97FF",
           "#FECB52"
          ],
          "font": {
           "color": "#2a3f5f"
          },
          "geo": {
           "bgcolor": "white",
           "lakecolor": "white",
           "landcolor": "#E5ECF6",
           "showlakes": true,
           "showland": true,
           "subunitcolor": "white"
          },
          "hoverlabel": {
           "align": "left"
          },
          "hovermode": "closest",
          "mapbox": {
           "style": "light"
          },
          "paper_bgcolor": "white",
          "plot_bgcolor": "#E5ECF6",
          "polar": {
           "angularaxis": {
            "gridcolor": "white",
            "linecolor": "white",
            "ticks": ""
           },
           "bgcolor": "#E5ECF6",
           "radialaxis": {
            "gridcolor": "white",
            "linecolor": "white",
            "ticks": ""
           }
          },
          "scene": {
           "xaxis": {
            "backgroundcolor": "#E5ECF6",
            "gridcolor": "white",
            "gridwidth": 2,
            "linecolor": "white",
            "showbackground": true,
            "ticks": "",
            "zerolinecolor": "white"
           },
           "yaxis": {
            "backgroundcolor": "#E5ECF6",
            "gridcolor": "white",
            "gridwidth": 2,
            "linecolor": "white",
            "showbackground": true,
            "ticks": "",
            "zerolinecolor": "white"
           },
           "zaxis": {
            "backgroundcolor": "#E5ECF6",
            "gridcolor": "white",
            "gridwidth": 2,
            "linecolor": "white",
            "showbackground": true,
            "ticks": "",
            "zerolinecolor": "white"
           }
          },
          "shapedefaults": {
           "line": {
            "color": "#2a3f5f"
           }
          },
          "ternary": {
           "aaxis": {
            "gridcolor": "white",
            "linecolor": "white",
            "ticks": ""
           },
           "baxis": {
            "gridcolor": "white",
            "linecolor": "white",
            "ticks": ""
           },
           "bgcolor": "#E5ECF6",
           "caxis": {
            "gridcolor": "white",
            "linecolor": "white",
            "ticks": ""
           }
          },
          "title": {
           "x": 0.05
          },
          "xaxis": {
           "automargin": true,
           "gridcolor": "white",
           "linecolor": "white",
           "ticks": "",
           "title": {
            "standoff": 15
           },
           "zerolinecolor": "white",
           "zerolinewidth": 2
          },
          "yaxis": {
           "automargin": true,
           "gridcolor": "white",
           "linecolor": "white",
           "ticks": "",
           "title": {
            "standoff": 15
           },
           "zerolinecolor": "white",
           "zerolinewidth": 2
          }
         }
        },
        "title": {
         "text": "Class Balance",
         "x": 0.5
        },
        "xaxis": {
         "anchor": "y",
         "autorange": true,
         "domain": [
          0,
          1
         ],
         "range": [
          0,
          36416.84210526316
         ],
         "title": {
          "text": "classes"
         },
         "type": "linear"
        },
        "yaxis": {
         "anchor": "x",
         "autorange": true,
         "domain": [
          0,
          1
         ],
         "range": [
          -0.5,
          1.5
         ],
         "title": {
          "text": "count"
         },
         "type": "category"
        }
       }
      },
      "image/png": "[encoded data removed]",
      "text/html": [
       "<div>                            <div id=\"387fd614-0e05-4d01-9fcc-8562d6ca7016\" class=\"plotly-graph-div\" style=\"height:525px; width:100%;\"></div>            <script type=\"text/javascript\">                require([\"plotly\"], function(Plotly) {                    window.PLOTLYENV=window.PLOTLYENV || {};                                    if (document.getElementById(\"387fd614-0e05-4d01-9fcc-8562d6ca7016\")) {                    Plotly.newPlot(                        \"387fd614-0e05-4d01-9fcc-8562d6ca7016\",                        [{\"alignmentgroup\": \"True\", \"hovertemplate\": \"category_list=%{x}<br>status=%{y}<extra></extra>\", \"legendgroup\": \"\", \"marker\": {\"color\": \"#636efa\"}, \"name\": \"\", \"offsetgroup\": \"\", \"orientation\": \"h\", \"showlegend\": false, \"textposition\": \"auto\", \"type\": \"bar\", \"x\": [2897, 34596], \"xaxis\": \"x\", \"y\": [\"failed\", \"succeed\"], \"yaxis\": \"y\"}],                        {\"bargap\": 0.2, \"barmode\": \"relative\", \"legend\": {\"tracegroupgap\": 0}, \"margin\": {\"t\": 60}, \"showlegend\": true, \"template\": {\"data\": {\"bar\": [{\"error_x\": {\"color\": \"#2a3f5f\"}, \"error_y\": {\"color\": \"#2a3f5f\"}, \"marker\": {\"line\": {\"color\": \"#E5ECF6\", \"width\": 0.5}}, \"type\": \"bar\"}], \"barpolar\": [{\"marker\": {\"line\": {\"color\": \"#E5ECF6\", \"width\": 0.5}}, \"type\": \"barpolar\"}], \"carpet\": [{\"aaxis\": {\"endlinecolor\": \"#2a3f5f\", \"gridcolor\": \"white\", \"linecolor\": \"white\", \"minorgridcolor\": \"white\", \"startlinecolor\": \"#2a3f5f\"}, \"baxis\": {\"endlinecolor\": \"#2a3f5f\", \"gridcolor\": \"white\", \"linecolor\": \"white\", \"minorgridcolor\": \"white\", \"startlinecolor\": \"#2a3f5f\"}, \"type\": \"carpet\"}], \"choropleth\": [{\"colorbar\": {\"outlinewidth\": 0, \"ticks\": \"\"}, \"type\": \"choropleth\"}], \"contour\": [{\"colorbar\": {\"outlinewidth\": 0, \"ticks\": \"\"}, \"colorscale\": [[0.0, \"#0d0887\"], [0.1111111111111111, \"#46039f\"], [0.2222222222222222, \"#7201a8\"], [0.3333333333333333, \"#9c179e\"], [0.4444444444444444, \"#bd3786\"], [0.5555555555555556, \"#d8576b\"], [0.6666666666666666, \"#ed7953\"], [0.7777777777777778, \"#fb9f3a\"], [0.8888888888888888, \"#fdca26\"], [1.0, \"#f0f921\"]], \"type\": \"contour\"}], \"contourcarpet\": [{\"colorbar\": {\"outlinewidth\": 0, \"ticks\": \"\"}, \"type\": \"contourcarpet\"}], \"heatmap\": [{\"colorbar\": {\"outlinewidth\": 0, \"ticks\": \"\"}, \"colorscale\": [[0.0, \"#0d0887\"], [0.1111111111111111, \"#46039f\"], [0.2222222222222222, \"#7201a8\"], [0.3333333333333333, \"#9c179e\"], [0.4444444444444444, \"#bd3786\"], [0.5555555555555556, \"#d8576b\"], [0.6666666666666666, \"#ed7953\"], [0.7777777777777778, \"#fb9f3a\"], [0.8888888888888888, \"#fdca26\"], [1.0, \"#f0f921\"]], \"type\": \"heatmap\"}], \"heatmapgl\": [{\"colorbar\": {\"outlinewidth\": 0, \"ticks\": \"\"}, \"colorscale\": [[0.0, \"#0d0887\"], [0.1111111111111111, \"#46039f\"], [0.2222222222222222, \"#7201a8\"], [0.3333333333333333, \"#9c179e\"], [0.4444444444444444, \"#bd3786\"], [0.5555555555555556, \"#d8576b\"], [0.6666666666666666, \"#ed7953\"], [0.7777777777777778, \"#fb9f3a\"], [0.8888888888888888, \"#fdca26\"], [1.0, \"#f0f921\"]], \"type\": \"heatmapgl\"}], \"histogram\": [{\"marker\": {\"colorbar\": {\"outlinewidth\": 0, \"ticks\": \"\"}}, \"type\": \"histogram\"}], \"histogram2d\": [{\"colorbar\": {\"outlinewidth\": 0, \"ticks\": \"\"}, \"colorscale\": [[0.0, \"#0d0887\"], [0.1111111111111111, \"#46039f\"], [0.2222222222222222, \"#7201a8\"], [0.3333333333333333, \"#9c179e\"], [0.4444444444444444, \"#bd3786\"], [0.5555555555555556, \"#d8576b\"], [0.6666666666666666, \"#ed7953\"], [0.7777777777777778, \"#fb9f3a\"], [0.8888888888888888, \"#fdca26\"], [1.0, \"#f0f921\"]], \"type\": \"histogram2d\"}], \"histogram2dcontour\": [{\"colorbar\": {\"outlinewidth\": 0, \"ticks\": \"\"}, \"colorscale\": [[0.0, \"#0d0887\"], [0.1111111111111111, \"#46039f\"], [0.2222222222222222, \"#7201a8\"], [0.3333333333333333, \"#9c179e\"], [0.4444444444444444, \"#bd3786\"], [0.5555555555555556, \"#d8576b\"], [0.6666666666666666, \"#ed7953\"], [0.7777777777777778, \"#fb9f3a\"], [0.8888888888888888, \"#fdca26\"], [1.0, \"#f0f921\"]], \"type\": \"histogram2dcontour\"}], \"mesh3d\": [{\"colorbar\": {\"outlinewidth\": 0, \"ticks\": \"\"}, \"type\": \"mesh3d\"}], \"parcoords\": [{\"line\": {\"colorbar\": {\"outlinewidth\": 0, \"ticks\": \"\"}}, \"type\": \"parcoords\"}], \"pie\": [{\"automargin\": true, \"type\": \"pie\"}], \"scatter\": [{\"marker\": {\"colorbar\": {\"outlinewidth\": 0, \"ticks\": \"\"}}, \"type\": \"scatter\"}], \"scatter3d\": [{\"line\": {\"colorbar\": {\"outlinewidth\": 0, \"ticks\": \"\"}}, \"marker\": {\"colorbar\": {\"outlinewidth\": 0, \"ticks\": \"\"}}, \"type\": \"scatter3d\"}], \"scattercarpet\": [{\"marker\": {\"colorbar\": {\"outlinewidth\": 0, \"ticks\": \"\"}}, \"type\": \"scattercarpet\"}], \"scattergeo\": [{\"marker\": {\"colorbar\": {\"outlinewidth\": 0, \"ticks\": \"\"}}, \"type\": \"scattergeo\"}], \"scattergl\": [{\"marker\": {\"colorbar\": {\"outlinewidth\": 0, \"ticks\": \"\"}}, \"type\": \"scattergl\"}], \"scattermapbox\": [{\"marker\": {\"colorbar\": {\"outlinewidth\": 0, \"ticks\": \"\"}}, \"type\": \"scattermapbox\"}], \"scatterpolar\": [{\"marker\": {\"colorbar\": {\"outlinewidth\": 0, \"ticks\": \"\"}}, \"type\": \"scatterpolar\"}], \"scatterpolargl\": [{\"marker\": {\"colorbar\": {\"outlinewidth\": 0, \"ticks\": \"\"}}, \"type\": \"scatterpolargl\"}], \"scatterternary\": [{\"marker\": {\"colorbar\": {\"outlinewidth\": 0, \"ticks\": \"\"}}, \"type\": \"scatterternary\"}], \"surface\": [{\"colorbar\": {\"outlinewidth\": 0, \"ticks\": \"\"}, \"colorscale\": [[0.0, \"#0d0887\"], [0.1111111111111111, \"#46039f\"], [0.2222222222222222, \"#7201a8\"], [0.3333333333333333, \"#9c179e\"], [0.4444444444444444, \"#bd3786\"], [0.5555555555555556, \"#d8576b\"], [0.6666666666666666, \"#ed7953\"], [0.7777777777777778, \"#fb9f3a\"], [0.8888888888888888, \"#fdca26\"], [1.0, \"#f0f921\"]], \"type\": \"surface\"}], \"table\": [{\"cells\": {\"fill\": {\"color\": \"#EBF0F8\"}, \"line\": {\"color\": \"white\"}}, \"header\": {\"fill\": {\"color\": \"#C8D4E3\"}, \"line\": {\"color\": \"white\"}}, \"type\": \"table\"}]}, \"layout\": {\"annotationdefaults\": {\"arrowcolor\": \"#2a3f5f\", \"arrowhead\": 0, \"arrowwidth\": 1}, \"autotypenumbers\": \"strict\", \"coloraxis\": {\"colorbar\": {\"outlinewidth\": 0, \"ticks\": \"\"}}, \"colorscale\": {\"diverging\": [[0, \"#8e0152\"], [0.1, \"#c51b7d\"], [0.2, \"#de77ae\"], [0.3, \"#f1b6da\"], [0.4, \"#fde0ef\"], [0.5, \"#f7f7f7\"], [0.6, \"#e6f5d0\"], [0.7, \"#b8e186\"], [0.8, \"#7fbc41\"], [0.9, \"#4d9221\"], [1, \"#276419\"]], \"sequential\": [[0.0, \"#0d0887\"], [0.1111111111111111, \"#46039f\"], [0.2222222222222222, \"#7201a8\"], [0.3333333333333333, \"#9c179e\"], [0.4444444444444444, \"#bd3786\"], [0.5555555555555556, \"#d8576b\"], [0.6666666666666666, \"#ed7953\"], [0.7777777777777778, \"#fb9f3a\"], [0.8888888888888888, \"#fdca26\"], [1.0, \"#f0f921\"]], \"sequentialminus\": [[0.0, \"#0d0887\"], [0.1111111111111111, \"#46039f\"], [0.2222222222222222, \"#7201a8\"], [0.3333333333333333, \"#9c179e\"], [0.4444444444444444, \"#bd3786\"], [0.5555555555555556, \"#d8576b\"], [0.6666666666666666, \"#ed7953\"], [0.7777777777777778, \"#fb9f3a\"], [0.8888888888888888, \"#fdca26\"], [1.0, \"#f0f921\"]]}, \"colorway\": [\"#636efa\", \"#EF553B\", \"#00cc96\", \"#ab63fa\", \"#FFA15A\", \"#19d3f3\", \"#FF6692\", \"#B6E880\", \"#FF97FF\", \"#FECB52\"], \"font\": {\"color\": \"#2a3f5f\"}, \"geo\": {\"bgcolor\": \"white\", \"lakecolor\": \"white\", \"landcolor\": \"#E5ECF6\", \"showlakes\": true, \"showland\": true, \"subunitcolor\": \"white\"}, \"hoverlabel\": {\"align\": \"left\"}, \"hovermode\": \"closest\", \"mapbox\": {\"style\": \"light\"}, \"paper_bgcolor\": \"white\", \"plot_bgcolor\": \"#E5ECF6\", \"polar\": {\"angularaxis\": {\"gridcolor\": \"white\", \"linecolor\": \"white\", \"ticks\": \"\"}, \"bgcolor\": \"#E5ECF6\", \"radialaxis\": {\"gridcolor\": \"white\", \"linecolor\": \"white\", \"ticks\": \"\"}}, \"scene\": {\"xaxis\": {\"backgroundcolor\": \"#E5ECF6\", \"gridcolor\": \"white\", \"gridwidth\": 2, \"linecolor\": \"white\", \"showbackground\": true, \"ticks\": \"\", \"zerolinecolor\": \"white\"}, \"yaxis\": {\"backgroundcolor\": \"#E5ECF6\", \"gridcolor\": \"white\", \"gridwidth\": 2, \"linecolor\": \"white\", \"showbackground\": true, \"ticks\": \"\", \"zerolinecolor\": \"white\"}, \"zaxis\": {\"backgroundcolor\": \"#E5ECF6\", \"gridcolor\": \"white\", \"gridwidth\": 2, \"linecolor\": \"white\", \"showbackground\": true, \"ticks\": \"\", \"zerolinecolor\": \"white\"}}, \"shapedefaults\": {\"line\": {\"color\": \"#2a3f5f\"}}, \"ternary\": {\"aaxis\": {\"gridcolor\": \"white\", \"linecolor\": \"white\", \"ticks\": \"\"}, \"baxis\": {\"gridcolor\": \"white\", \"linecolor\": \"white\", \"ticks\": \"\"}, \"bgcolor\": \"#E5ECF6\", \"caxis\": {\"gridcolor\": \"white\", \"linecolor\": \"white\", \"ticks\": \"\"}}, \"title\": {\"x\": 0.05}, \"xaxis\": {\"automargin\": true, \"gridcolor\": \"white\", \"linecolor\": \"white\", \"ticks\": \"\", \"title\": {\"standoff\": 15}, \"zerolinecolor\": \"white\", \"zerolinewidth\": 2}, \"yaxis\": {\"automargin\": true, \"gridcolor\": \"white\", \"linecolor\": \"white\", \"ticks\": \"\", \"title\": {\"standoff\": 15}, \"zerolinecolor\": \"white\", \"zerolinewidth\": 2}}}, \"title\": {\"text\": \"Class Balance\", \"x\": 0.5}, \"xaxis\": {\"anchor\": \"y\", \"domain\": [0.0, 1.0], \"title\": {\"text\": \"classes\"}}, \"yaxis\": {\"anchor\": \"x\", \"domain\": [0.0, 1.0], \"title\": {\"text\": \"count\"}}},                        {\"responsive\": true}                    ).then(function(){\n",
       "                            \n",
       "var gd = document.getElementById('387fd614-0e05-4d01-9fcc-8562d6ca7016');\n",
       "var x = new MutationObserver(function (mutations, observer) {{\n",
       "        var display = window.getComputedStyle(gd).display;\n",
       "        if (!display || display === 'none') {{\n",
       "            console.log([gd, 'removed!']);\n",
       "            Plotly.purge(gd);\n",
       "            observer.disconnect();\n",
       "        }}\n",
       "}});\n",
       "\n",
       "// Listen for the removal of the full notebook cells\n",
       "var notebookContainer = gd.closest('#notebook-container');\n",
       "if (notebookContainer) {{\n",
       "    x.observe(notebookContainer, {childList: true});\n",
       "}}\n",
       "\n",
       "// Listen for the clearing of the current output cell\n",
       "var outputEl = gd.closest('.output');\n",
       "if (outputEl) {{\n",
       "    x.observe(outputEl, {childList: true});\n",
       "}}\n",
       "\n",
       "                        })                };                });            </script>        </div>"
      ]
     },
     "metadata": {},
     "output_type": "display_data"
    }
   ],
   "source": [
    "fig = px.bar(stat_group, x='category_list')\n",
    "\n",
    "fig.update_layout(\n",
    "    xaxis_title_text='classes',\n",
    "    yaxis_title_text='count',\n",
    "    bargap=0.2, showlegend=True,\n",
    "    title_text='Class Balance',\n",
    "    title_x=0.5,\n",
    ")\n",
    "fig.write_image(\"../images/class_balance.png\")\n",
    "fig.show();"
   ]
  },
  {
   "cell_type": "code",
   "execution_count": 9,
   "metadata": {},
   "outputs": [],
   "source": [
    "count_dict = dict(df.groupby('category_list').count().funding_total_usd)\n",
    "df.groupby('category_list')"
   ]
  },
  {
   "cell_type": "code",
   "execution_count": 11,
   "metadata": {},
   "outputs": [],
   "source": [
    "suc = df[df.status != 1]"
   ]
  },
  {
   "cell_type": "code",
   "execution_count": 12,
   "metadata": {},
   "outputs": [
    {
     "data": {
      "text/html": [
       "<div>\n",
       "<style scoped>\n",
       "    .dataframe tbody tr th:only-of-type {\n",
       "        vertical-align: middle;\n",
       "    }\n",
       "\n",
       "    .dataframe tbody tr th {\n",
       "        vertical-align: top;\n",
       "    }\n",
       "\n",
       "    .dataframe thead th {\n",
       "        text-align: right;\n",
       "    }\n",
       "</style>\n",
       "<table border=\"1\" class=\"dataframe\">\n",
       "  <thead>\n",
       "    <tr style=\"text-align: right;\">\n",
       "      <th></th>\n",
       "      <th>category_list</th>\n",
       "      <th>funding_total_usd</th>\n",
       "      <th>status</th>\n",
       "      <th>state_code</th>\n",
       "      <th>region</th>\n",
       "      <th>city</th>\n",
       "      <th>funding_rounds</th>\n",
       "      <th>founded_at</th>\n",
       "      <th>first_funding_at</th>\n",
       "      <th>last_funding_at</th>\n",
       "      <th>average_funding</th>\n",
       "      <th>len_of_company_name</th>\n",
       "      <th>len_of_company_url</th>\n",
       "      <th>num_of_company_cat</th>\n",
       "      <th>first_last_funding</th>\n",
       "      <th>region_count</th>\n",
       "      <th>funding_total_per_region</th>\n",
       "      <th>funding_per_region_avg</th>\n",
       "      <th>first_funding_total_per_region</th>\n",
       "      <th>avg_first_funding_per_region</th>\n",
       "      <th>state_code_count</th>\n",
       "      <th>city_count</th>\n",
       "      <th>funding_total_per_state_code</th>\n",
       "      <th>funding_per_state_code_avg</th>\n",
       "      <th>first_funding_total_per_state_code</th>\n",
       "      <th>avg_first_funding_per_state_code</th>\n",
       "      <th>unique_industry_count_in_city</th>\n",
       "      <th>unique_industry_names_in_city</th>\n",
       "      <th>percent_gdp_by_state</th>\n",
       "      <th>total_gdp_by_state</th>\n",
       "      <th>population_by_state</th>\n",
       "      <th>pop_per_city</th>\n",
       "      <th>pop_density_per_city</th>\n",
       "      <th>zip</th>\n",
       "      <th>lat</th>\n",
       "      <th>long</th>\n",
       "      <th>num_top_univ_per_city</th>\n",
       "      <th>top_univ_in_city</th>\n",
       "      <th>num_top_univ_per_state</th>\n",
       "      <th>success_count_by_region</th>\n",
       "      <th>fail_count_by_region</th>\n",
       "      <th>total_company_count</th>\n",
       "      <th>ratio_success_by_region</th>\n",
       "      <th>ratio_fail_by_region</th>\n",
       "    </tr>\n",
       "  </thead>\n",
       "  <tbody>\n",
       "    <tr>\n",
       "      <th>1</th>\n",
       "      <td>clean technology</td>\n",
       "      <td>1800000.0</td>\n",
       "      <td>2</td>\n",
       "      <td>DE</td>\n",
       "      <td>Wilmington, Delaware</td>\n",
       "      <td>Wilmington</td>\n",
       "      <td>1</td>\n",
       "      <td>2007-01-01</td>\n",
       "      <td>2011-05-12</td>\n",
       "      <td>2011-05-12</td>\n",
       "      <td>1.800000e+06</td>\n",
       "      <td>13</td>\n",
       "      <td>20</td>\n",
       "      <td>1</td>\n",
       "      <td>135.000000</td>\n",
       "      <td>90</td>\n",
       "      <td>617507362.0</td>\n",
       "      <td>6.861193e+06</td>\n",
       "      <td>617507362.0</td>\n",
       "      <td>6.861193e+06</td>\n",
       "      <td>114</td>\n",
       "      <td>93</td>\n",
       "      <td>635622395.0</td>\n",
       "      <td>5.575635e+06</td>\n",
       "      <td>635622395.0</td>\n",
       "      <td>5.575635e+06</td>\n",
       "      <td>59</td>\n",
       "      <td>manufacturing,celebrity,nonprofits,medical dev...</td>\n",
       "      <td>0.40</td>\n",
       "      <td>5.381885e+10</td>\n",
       "      <td>1948.543</td>\n",
       "      <td>546916.0</td>\n",
       "      <td>21321.5</td>\n",
       "      <td>26597</td>\n",
       "      <td>38.514295</td>\n",
       "      <td>-78.685491</td>\n",
       "      <td>0</td>\n",
       "      <td>False</td>\n",
       "      <td>0</td>\n",
       "      <td>86</td>\n",
       "      <td>4</td>\n",
       "      <td>90</td>\n",
       "      <td>0.955556</td>\n",
       "      <td>0.044444</td>\n",
       "    </tr>\n",
       "    <tr>\n",
       "      <th>3</th>\n",
       "      <td>clean technology</td>\n",
       "      <td>250000.0</td>\n",
       "      <td>0</td>\n",
       "      <td>DE</td>\n",
       "      <td>Wilmington, Delaware</td>\n",
       "      <td>Wilmington</td>\n",
       "      <td>1</td>\n",
       "      <td>NaN</td>\n",
       "      <td>2008-09-24</td>\n",
       "      <td>2008-09-24</td>\n",
       "      <td>2.500000e+05</td>\n",
       "      <td>16</td>\n",
       "      <td>30</td>\n",
       "      <td>1</td>\n",
       "      <td>112.000000</td>\n",
       "      <td>90</td>\n",
       "      <td>617507362.0</td>\n",
       "      <td>6.861193e+06</td>\n",
       "      <td>617507362.0</td>\n",
       "      <td>6.861193e+06</td>\n",
       "      <td>114</td>\n",
       "      <td>93</td>\n",
       "      <td>635622395.0</td>\n",
       "      <td>5.575635e+06</td>\n",
       "      <td>635622395.0</td>\n",
       "      <td>5.575635e+06</td>\n",
       "      <td>59</td>\n",
       "      <td>manufacturing,celebrity,nonprofits,medical dev...</td>\n",
       "      <td>0.40</td>\n",
       "      <td>5.381885e+10</td>\n",
       "      <td>1948.543</td>\n",
       "      <td>546916.0</td>\n",
       "      <td>21321.5</td>\n",
       "      <td>26597</td>\n",
       "      <td>38.514295</td>\n",
       "      <td>-78.685491</td>\n",
       "      <td>0</td>\n",
       "      <td>False</td>\n",
       "      <td>0</td>\n",
       "      <td>86</td>\n",
       "      <td>4</td>\n",
       "      <td>90</td>\n",
       "      <td>0.955556</td>\n",
       "      <td>0.044444</td>\n",
       "    </tr>\n",
       "    <tr>\n",
       "      <th>11</th>\n",
       "      <td>biotechnology</td>\n",
       "      <td>4259323.0</td>\n",
       "      <td>2</td>\n",
       "      <td>DE</td>\n",
       "      <td>Wilmington, Delaware</td>\n",
       "      <td>Wilmington</td>\n",
       "      <td>2</td>\n",
       "      <td>NaN</td>\n",
       "      <td>2012-08-23</td>\n",
       "      <td>2013-02-01</td>\n",
       "      <td>2.129662e+06</td>\n",
       "      <td>18</td>\n",
       "      <td>20</td>\n",
       "      <td>1</td>\n",
       "      <td>81.000000</td>\n",
       "      <td>90</td>\n",
       "      <td>617507362.0</td>\n",
       "      <td>6.861193e+06</td>\n",
       "      <td>617507362.0</td>\n",
       "      <td>6.861193e+06</td>\n",
       "      <td>114</td>\n",
       "      <td>93</td>\n",
       "      <td>635622395.0</td>\n",
       "      <td>5.575635e+06</td>\n",
       "      <td>635622395.0</td>\n",
       "      <td>5.575635e+06</td>\n",
       "      <td>59</td>\n",
       "      <td>manufacturing,celebrity,nonprofits,medical dev...</td>\n",
       "      <td>0.40</td>\n",
       "      <td>5.381885e+10</td>\n",
       "      <td>1948.543</td>\n",
       "      <td>546916.0</td>\n",
       "      <td>21321.5</td>\n",
       "      <td>26597</td>\n",
       "      <td>38.514295</td>\n",
       "      <td>-78.685491</td>\n",
       "      <td>0</td>\n",
       "      <td>False</td>\n",
       "      <td>0</td>\n",
       "      <td>86</td>\n",
       "      <td>4</td>\n",
       "      <td>90</td>\n",
       "      <td>0.955556</td>\n",
       "      <td>0.044444</td>\n",
       "    </tr>\n",
       "    <tr>\n",
       "      <th>26</th>\n",
       "      <td>curated web</td>\n",
       "      <td>2000000.0</td>\n",
       "      <td>0</td>\n",
       "      <td>DE</td>\n",
       "      <td>Wilmington, Delaware</td>\n",
       "      <td>Wilmington</td>\n",
       "      <td>1</td>\n",
       "      <td>NaN</td>\n",
       "      <td>2007-01-01</td>\n",
       "      <td>2007-01-01</td>\n",
       "      <td>2.000000e+06</td>\n",
       "      <td>10</td>\n",
       "      <td>25</td>\n",
       "      <td>1</td>\n",
       "      <td>451.333333</td>\n",
       "      <td>90</td>\n",
       "      <td>617507362.0</td>\n",
       "      <td>6.861193e+06</td>\n",
       "      <td>617507362.0</td>\n",
       "      <td>6.861193e+06</td>\n",
       "      <td>114</td>\n",
       "      <td>93</td>\n",
       "      <td>635622395.0</td>\n",
       "      <td>5.575635e+06</td>\n",
       "      <td>635622395.0</td>\n",
       "      <td>5.575635e+06</td>\n",
       "      <td>59</td>\n",
       "      <td>manufacturing,celebrity,nonprofits,medical dev...</td>\n",
       "      <td>0.40</td>\n",
       "      <td>5.381885e+10</td>\n",
       "      <td>1948.543</td>\n",
       "      <td>546916.0</td>\n",
       "      <td>21321.5</td>\n",
       "      <td>26597</td>\n",
       "      <td>38.514295</td>\n",
       "      <td>-78.685491</td>\n",
       "      <td>0</td>\n",
       "      <td>False</td>\n",
       "      <td>0</td>\n",
       "      <td>86</td>\n",
       "      <td>4</td>\n",
       "      <td>90</td>\n",
       "      <td>0.955556</td>\n",
       "      <td>0.044444</td>\n",
       "    </tr>\n",
       "    <tr>\n",
       "      <th>33</th>\n",
       "      <td>agriculture</td>\n",
       "      <td>9000000.0</td>\n",
       "      <td>3</td>\n",
       "      <td>DE</td>\n",
       "      <td>Wilmington, Delaware</td>\n",
       "      <td>Wilmington</td>\n",
       "      <td>1</td>\n",
       "      <td>1802-07-19</td>\n",
       "      <td>2009-07-02</td>\n",
       "      <td>2009-07-02</td>\n",
       "      <td>9.000000e+06</td>\n",
       "      <td>6</td>\n",
       "      <td>21</td>\n",
       "      <td>4</td>\n",
       "      <td>175.500000</td>\n",
       "      <td>90</td>\n",
       "      <td>617507362.0</td>\n",
       "      <td>6.861193e+06</td>\n",
       "      <td>617507362.0</td>\n",
       "      <td>6.861193e+06</td>\n",
       "      <td>114</td>\n",
       "      <td>93</td>\n",
       "      <td>635622395.0</td>\n",
       "      <td>5.575635e+06</td>\n",
       "      <td>635622395.0</td>\n",
       "      <td>5.575635e+06</td>\n",
       "      <td>59</td>\n",
       "      <td>manufacturing,celebrity,nonprofits,medical dev...</td>\n",
       "      <td>0.40</td>\n",
       "      <td>5.381885e+10</td>\n",
       "      <td>1948.543</td>\n",
       "      <td>546916.0</td>\n",
       "      <td>21321.5</td>\n",
       "      <td>26597</td>\n",
       "      <td>38.514295</td>\n",
       "      <td>-78.685491</td>\n",
       "      <td>0</td>\n",
       "      <td>False</td>\n",
       "      <td>0</td>\n",
       "      <td>86</td>\n",
       "      <td>4</td>\n",
       "      <td>90</td>\n",
       "      <td>0.955556</td>\n",
       "      <td>0.044444</td>\n",
       "    </tr>\n",
       "    <tr>\n",
       "      <th>...</th>\n",
       "      <td>...</td>\n",
       "      <td>...</td>\n",
       "      <td>...</td>\n",
       "      <td>...</td>\n",
       "      <td>...</td>\n",
       "      <td>...</td>\n",
       "      <td>...</td>\n",
       "      <td>...</td>\n",
       "      <td>...</td>\n",
       "      <td>...</td>\n",
       "      <td>...</td>\n",
       "      <td>...</td>\n",
       "      <td>...</td>\n",
       "      <td>...</td>\n",
       "      <td>...</td>\n",
       "      <td>...</td>\n",
       "      <td>...</td>\n",
       "      <td>...</td>\n",
       "      <td>...</td>\n",
       "      <td>...</td>\n",
       "      <td>...</td>\n",
       "      <td>...</td>\n",
       "      <td>...</td>\n",
       "      <td>...</td>\n",
       "      <td>...</td>\n",
       "      <td>...</td>\n",
       "      <td>...</td>\n",
       "      <td>...</td>\n",
       "      <td>...</td>\n",
       "      <td>...</td>\n",
       "      <td>...</td>\n",
       "      <td>...</td>\n",
       "      <td>...</td>\n",
       "      <td>...</td>\n",
       "      <td>...</td>\n",
       "      <td>...</td>\n",
       "      <td>...</td>\n",
       "      <td>...</td>\n",
       "      <td>...</td>\n",
       "      <td>...</td>\n",
       "      <td>...</td>\n",
       "      <td>...</td>\n",
       "      <td>...</td>\n",
       "      <td>...</td>\n",
       "    </tr>\n",
       "    <tr>\n",
       "      <th>37401</th>\n",
       "      <td>classifieds</td>\n",
       "      <td>1800000.0</td>\n",
       "      <td>0</td>\n",
       "      <td>SD</td>\n",
       "      <td>SD - Other</td>\n",
       "      <td>Toronto</td>\n",
       "      <td>1</td>\n",
       "      <td>2008-04-02</td>\n",
       "      <td>2010-01-03</td>\n",
       "      <td>2010-01-03</td>\n",
       "      <td>1.800000e+06</td>\n",
       "      <td>11</td>\n",
       "      <td>26</td>\n",
       "      <td>2</td>\n",
       "      <td>224.000000</td>\n",
       "      <td>9</td>\n",
       "      <td>22747281.0</td>\n",
       "      <td>2.527476e+06</td>\n",
       "      <td>22747281.0</td>\n",
       "      <td>2.527476e+06</td>\n",
       "      <td>18</td>\n",
       "      <td>2</td>\n",
       "      <td>104921680.0</td>\n",
       "      <td>5.828982e+06</td>\n",
       "      <td>104921680.0</td>\n",
       "      <td>5.828982e+06</td>\n",
       "      <td>2</td>\n",
       "      <td>classifieds,music</td>\n",
       "      <td>0.25</td>\n",
       "      <td>3.372020e+10</td>\n",
       "      <td>75811.000</td>\n",
       "      <td>9750.0</td>\n",
       "      <td>75.3</td>\n",
       "      <td>56003</td>\n",
       "      <td>40.951247</td>\n",
       "      <td>-91.110623</td>\n",
       "      <td>0</td>\n",
       "      <td>False</td>\n",
       "      <td>0</td>\n",
       "      <td>7</td>\n",
       "      <td>2</td>\n",
       "      <td>9</td>\n",
       "      <td>0.777778</td>\n",
       "      <td>0.222222</td>\n",
       "    </tr>\n",
       "    <tr>\n",
       "      <th>37405</th>\n",
       "      <td>automotive</td>\n",
       "      <td>90000.0</td>\n",
       "      <td>0</td>\n",
       "      <td>MS</td>\n",
       "      <td>MS - Other</td>\n",
       "      <td>Georgetown</td>\n",
       "      <td>2</td>\n",
       "      <td>2007-11-08</td>\n",
       "      <td>2008-11-01</td>\n",
       "      <td>2009-02-01</td>\n",
       "      <td>4.500000e+04</td>\n",
       "      <td>11</td>\n",
       "      <td>26</td>\n",
       "      <td>8</td>\n",
       "      <td>46.000000</td>\n",
       "      <td>8</td>\n",
       "      <td>11844236.0</td>\n",
       "      <td>1.480530e+06</td>\n",
       "      <td>11844236.0</td>\n",
       "      <td>1.480530e+06</td>\n",
       "      <td>38</td>\n",
       "      <td>11</td>\n",
       "      <td>228926999.0</td>\n",
       "      <td>6.024395e+06</td>\n",
       "      <td>228926999.0</td>\n",
       "      <td>6.024395e+06</td>\n",
       "      <td>10</td>\n",
       "      <td>software,finance,information technology,constr...</td>\n",
       "      <td>0.62</td>\n",
       "      <td>8.517120e+10</td>\n",
       "      <td>46923.274</td>\n",
       "      <td>246923.0</td>\n",
       "      <td>1375.4</td>\n",
       "      <td>46600</td>\n",
       "      <td>37.264017</td>\n",
       "      <td>-88.329041</td>\n",
       "      <td>0</td>\n",
       "      <td>False</td>\n",
       "      <td>0</td>\n",
       "      <td>7</td>\n",
       "      <td>1</td>\n",
       "      <td>8</td>\n",
       "      <td>0.875000</td>\n",
       "      <td>0.125000</td>\n",
       "    </tr>\n",
       "    <tr>\n",
       "      <th>37408</th>\n",
       "      <td>customer service</td>\n",
       "      <td>11000000.0</td>\n",
       "      <td>0</td>\n",
       "      <td>MS</td>\n",
       "      <td>Jackson</td>\n",
       "      <td>Ridgeland</td>\n",
       "      <td>3</td>\n",
       "      <td>2003-09-01</td>\n",
       "      <td>2005-10-17</td>\n",
       "      <td>2014-05-02</td>\n",
       "      <td>3.666667e+06</td>\n",
       "      <td>6</td>\n",
       "      <td>21</td>\n",
       "      <td>4</td>\n",
       "      <td>1039.666667</td>\n",
       "      <td>17</td>\n",
       "      <td>200625000.0</td>\n",
       "      <td>1.180147e+07</td>\n",
       "      <td>200625000.0</td>\n",
       "      <td>1.180147e+07</td>\n",
       "      <td>38</td>\n",
       "      <td>5</td>\n",
       "      <td>228926999.0</td>\n",
       "      <td>6.024395e+06</td>\n",
       "      <td>228926999.0</td>\n",
       "      <td>6.024395e+06</td>\n",
       "      <td>5</td>\n",
       "      <td>customer service,e-commerce,computers,financia...</td>\n",
       "      <td>0.62</td>\n",
       "      <td>8.517120e+10</td>\n",
       "      <td>46923.274</td>\n",
       "      <td>39176.0</td>\n",
       "      <td>339.5</td>\n",
       "      <td>41285</td>\n",
       "      <td>36.694757</td>\n",
       "      <td>-87.675140</td>\n",
       "      <td>0</td>\n",
       "      <td>False</td>\n",
       "      <td>0</td>\n",
       "      <td>16</td>\n",
       "      <td>1</td>\n",
       "      <td>17</td>\n",
       "      <td>0.941176</td>\n",
       "      <td>0.058824</td>\n",
       "    </tr>\n",
       "    <tr>\n",
       "      <th>37419</th>\n",
       "      <td>computers</td>\n",
       "      <td>52500000.0</td>\n",
       "      <td>2</td>\n",
       "      <td>MS</td>\n",
       "      <td>Jackson</td>\n",
       "      <td>Ridgeland</td>\n",
       "      <td>4</td>\n",
       "      <td>1987-01-01</td>\n",
       "      <td>2005-08-29</td>\n",
       "      <td>2007-05-23</td>\n",
       "      <td>1.312500e+07</td>\n",
       "      <td>17</td>\n",
       "      <td>23</td>\n",
       "      <td>4</td>\n",
       "      <td>158.000000</td>\n",
       "      <td>17</td>\n",
       "      <td>200625000.0</td>\n",
       "      <td>1.180147e+07</td>\n",
       "      <td>200625000.0</td>\n",
       "      <td>1.180147e+07</td>\n",
       "      <td>38</td>\n",
       "      <td>5</td>\n",
       "      <td>228926999.0</td>\n",
       "      <td>6.024395e+06</td>\n",
       "      <td>228926999.0</td>\n",
       "      <td>6.024395e+06</td>\n",
       "      <td>5</td>\n",
       "      <td>customer service,e-commerce,computers,financia...</td>\n",
       "      <td>0.62</td>\n",
       "      <td>8.517120e+10</td>\n",
       "      <td>46923.274</td>\n",
       "      <td>39176.0</td>\n",
       "      <td>339.5</td>\n",
       "      <td>41285</td>\n",
       "      <td>36.694757</td>\n",
       "      <td>-87.675140</td>\n",
       "      <td>0</td>\n",
       "      <td>False</td>\n",
       "      <td>0</td>\n",
       "      <td>16</td>\n",
       "      <td>1</td>\n",
       "      <td>17</td>\n",
       "      <td>0.941176</td>\n",
       "      <td>0.058824</td>\n",
       "    </tr>\n",
       "    <tr>\n",
       "      <th>37433</th>\n",
       "      <td>web hosting</td>\n",
       "      <td>81670000.0</td>\n",
       "      <td>2</td>\n",
       "      <td>MS</td>\n",
       "      <td>Jackson</td>\n",
       "      <td>Jackson</td>\n",
       "      <td>6</td>\n",
       "      <td>NaN</td>\n",
       "      <td>2001-04-17</td>\n",
       "      <td>2011-02-23</td>\n",
       "      <td>1.361167e+07</td>\n",
       "      <td>10</td>\n",
       "      <td>25</td>\n",
       "      <td>1</td>\n",
       "      <td>599.833333</td>\n",
       "      <td>17</td>\n",
       "      <td>200625000.0</td>\n",
       "      <td>1.180147e+07</td>\n",
       "      <td>200625000.0</td>\n",
       "      <td>1.180147e+07</td>\n",
       "      <td>38</td>\n",
       "      <td>9</td>\n",
       "      <td>228926999.0</td>\n",
       "      <td>6.024395e+06</td>\n",
       "      <td>228926999.0</td>\n",
       "      <td>6.024395e+06</td>\n",
       "      <td>9</td>\n",
       "      <td>consumers,software,education,golf equipment,he...</td>\n",
       "      <td>0.62</td>\n",
       "      <td>8.517120e+10</td>\n",
       "      <td>46923.274</td>\n",
       "      <td>553655.0</td>\n",
       "      <td>39492.3</td>\n",
       "      <td>43770</td>\n",
       "      <td>36.702520</td>\n",
       "      <td>-89.314192</td>\n",
       "      <td>1</td>\n",
       "      <td>True</td>\n",
       "      <td>0</td>\n",
       "      <td>16</td>\n",
       "      <td>1</td>\n",
       "      <td>17</td>\n",
       "      <td>0.941176</td>\n",
       "      <td>0.058824</td>\n",
       "    </tr>\n",
       "  </tbody>\n",
       "</table>\n",
       "<p>8156 rows × 44 columns</p>\n",
       "</div>"
      ],
      "text/plain": [
       "          category_list  funding_total_usd  status state_code                region        city  funding_rounds  founded_at first_funding_at last_funding_at  average_funding  len_of_company_name  len_of_company_url  num_of_company_cat  first_last_funding  region_count  funding_total_per_region  funding_per_region_avg  first_funding_total_per_region  avg_first_funding_per_region  state_code_count  city_count  funding_total_per_state_code  funding_per_state_code_avg  first_funding_total_per_state_code  avg_first_funding_per_state_code  unique_industry_count_in_city                      unique_industry_names_in_city  percent_gdp_by_state  total_gdp_by_state  population_by_state  pop_per_city  pop_density_per_city    zip        lat       long  num_top_univ_per_city  top_univ_in_city  num_top_univ_per_state  success_count_by_region  fail_count_by_region  total_company_count  ratio_success_by_region  ratio_fail_by_region\n",
       "1      clean technology          1800000.0       2         DE  Wilmington, Delaware  Wilmington               1  2007-01-01       2011-05-12      2011-05-12     1.800000e+06                   13                  20                   1          135.000000            90               617507362.0            6.861193e+06                     617507362.0                  6.861193e+06               114          93                   635622395.0                5.575635e+06                         635622395.0                      5.575635e+06                             59  manufacturing,celebrity,nonprofits,medical dev...                  0.40        5.381885e+10             1948.543      546916.0               21321.5  26597  38.514295 -78.685491                      0             False                       0                       86                     4                   90                 0.955556              0.044444\n",
       "3      clean technology           250000.0       0         DE  Wilmington, Delaware  Wilmington               1         NaN       2008-09-24      2008-09-24     2.500000e+05                   16                  30                   1          112.000000            90               617507362.0            6.861193e+06                     617507362.0                  6.861193e+06               114          93                   635622395.0                5.575635e+06                         635622395.0                      5.575635e+06                             59  manufacturing,celebrity,nonprofits,medical dev...                  0.40        5.381885e+10             1948.543      546916.0               21321.5  26597  38.514295 -78.685491                      0             False                       0                       86                     4                   90                 0.955556              0.044444\n",
       "11        biotechnology          4259323.0       2         DE  Wilmington, Delaware  Wilmington               2         NaN       2012-08-23      2013-02-01     2.129662e+06                   18                  20                   1           81.000000            90               617507362.0            6.861193e+06                     617507362.0                  6.861193e+06               114          93                   635622395.0                5.575635e+06                         635622395.0                      5.575635e+06                             59  manufacturing,celebrity,nonprofits,medical dev...                  0.40        5.381885e+10             1948.543      546916.0               21321.5  26597  38.514295 -78.685491                      0             False                       0                       86                     4                   90                 0.955556              0.044444\n",
       "26          curated web          2000000.0       0         DE  Wilmington, Delaware  Wilmington               1         NaN       2007-01-01      2007-01-01     2.000000e+06                   10                  25                   1          451.333333            90               617507362.0            6.861193e+06                     617507362.0                  6.861193e+06               114          93                   635622395.0                5.575635e+06                         635622395.0                      5.575635e+06                             59  manufacturing,celebrity,nonprofits,medical dev...                  0.40        5.381885e+10             1948.543      546916.0               21321.5  26597  38.514295 -78.685491                      0             False                       0                       86                     4                   90                 0.955556              0.044444\n",
       "33          agriculture          9000000.0       3         DE  Wilmington, Delaware  Wilmington               1  1802-07-19       2009-07-02      2009-07-02     9.000000e+06                    6                  21                   4          175.500000            90               617507362.0            6.861193e+06                     617507362.0                  6.861193e+06               114          93                   635622395.0                5.575635e+06                         635622395.0                      5.575635e+06                             59  manufacturing,celebrity,nonprofits,medical dev...                  0.40        5.381885e+10             1948.543      546916.0               21321.5  26597  38.514295 -78.685491                      0             False                       0                       86                     4                   90                 0.955556              0.044444\n",
       "...                 ...                ...     ...        ...                   ...         ...             ...         ...              ...             ...              ...                  ...                 ...                 ...                 ...           ...                       ...                     ...                             ...                           ...               ...         ...                           ...                         ...                                 ...                               ...                            ...                                                ...                   ...                 ...                  ...           ...                   ...    ...        ...        ...                    ...               ...                     ...                      ...                   ...                  ...                      ...                   ...\n",
       "37401       classifieds          1800000.0       0         SD            SD - Other     Toronto               1  2008-04-02       2010-01-03      2010-01-03     1.800000e+06                   11                  26                   2          224.000000             9                22747281.0            2.527476e+06                      22747281.0                  2.527476e+06                18           2                   104921680.0                5.828982e+06                         104921680.0                      5.828982e+06                              2                                  classifieds,music                  0.25        3.372020e+10            75811.000        9750.0                  75.3  56003  40.951247 -91.110623                      0             False                       0                        7                     2                    9                 0.777778              0.222222\n",
       "37405        automotive            90000.0       0         MS            MS - Other  Georgetown               2  2007-11-08       2008-11-01      2009-02-01     4.500000e+04                   11                  26                   8           46.000000             8                11844236.0            1.480530e+06                      11844236.0                  1.480530e+06                38          11                   228926999.0                6.024395e+06                         228926999.0                      6.024395e+06                             10  software,finance,information technology,constr...                  0.62        8.517120e+10            46923.274      246923.0                1375.4  46600  37.264017 -88.329041                      0             False                       0                        7                     1                    8                 0.875000              0.125000\n",
       "37408  customer service         11000000.0       0         MS               Jackson   Ridgeland               3  2003-09-01       2005-10-17      2014-05-02     3.666667e+06                    6                  21                   4         1039.666667            17               200625000.0            1.180147e+07                     200625000.0                  1.180147e+07                38           5                   228926999.0                6.024395e+06                         228926999.0                      6.024395e+06                              5  customer service,e-commerce,computers,financia...                  0.62        8.517120e+10            46923.274       39176.0                 339.5  41285  36.694757 -87.675140                      0             False                       0                       16                     1                   17                 0.941176              0.058824\n",
       "37419         computers         52500000.0       2         MS               Jackson   Ridgeland               4  1987-01-01       2005-08-29      2007-05-23     1.312500e+07                   17                  23                   4          158.000000            17               200625000.0            1.180147e+07                     200625000.0                  1.180147e+07                38           5                   228926999.0                6.024395e+06                         228926999.0                      6.024395e+06                              5  customer service,e-commerce,computers,financia...                  0.62        8.517120e+10            46923.274       39176.0                 339.5  41285  36.694757 -87.675140                      0             False                       0                       16                     1                   17                 0.941176              0.058824\n",
       "37433       web hosting         81670000.0       2         MS               Jackson     Jackson               6         NaN       2001-04-17      2011-02-23     1.361167e+07                   10                  25                   1          599.833333            17               200625000.0            1.180147e+07                     200625000.0                  1.180147e+07                38           9                   228926999.0                6.024395e+06                         228926999.0                      6.024395e+06                              9  consumers,software,education,golf equipment,he...                  0.62        8.517120e+10            46923.274      553655.0               39492.3  43770  36.702520 -89.314192                      1              True                       0                       16                     1                   17                 0.941176              0.058824\n",
       "\n",
       "[8156 rows x 44 columns]"
      ]
     },
     "execution_count": 12,
     "metadata": {},
     "output_type": "execute_result"
    }
   ],
   "source": [
    "suc.groupby()"
   ]
  },
  {
   "cell_type": "code",
   "execution_count": null,
   "metadata": {},
   "outputs": [],
   "source": [
    "'''\n",
    "Look at bay area. Cities within bay area, how their success rates. fail rates differ, plot the area on a map.\n",
    "Look at feature importance/explanability and get them on here.\n",
    "'''\n",
    "\n",
    "'''\n",
    "median investment per company? 1,800,000\n",
    "Money lost on investments? 32,000,000,000\n",
    "\n",
    "\n",
    "ratio_success_by_region\n",
    "'''"
   ]
  }
 ],
 "metadata": {
  "kernelspec": {
   "display_name": "Python 3",
   "language": "python",
   "name": "python3"
  },
  "language_info": {
   "codemirror_mode": {
    "name": "ipython",
    "version": 3
   },
   "file_extension": ".py",
   "mimetype": "text/x-python",
   "name": "python",
   "nbconvert_exporter": "python",
   "pygments_lexer": "ipython3",
   "version": "3.8.5"
  }
 },
 "nbformat": 4,
 "nbformat_minor": 4
}
